{
 "cells": [
  {
   "cell_type": "markdown",
   "metadata": {},
   "source": [
    "# Requests\n",
    "\n",
    "Biblioteka Requests to narzędzie w Pythonie, które umożliwia łatwe wysyłanie żądań HTTP. Została wprowadzona w 2011 roku przez Kennetha Reitza jako odpowiedź na potrzebę uproszczenia obsługi protokołu HTTP w Pythonie. Zastąpiła bardziej złożone moduły standardowej biblioteki, takie jak **urllib** czy **http.client**."
   ]
  },
  {
   "cell_type": "code",
   "execution_count": 1,
   "metadata": {},
   "outputs": [
    {
     "name": "stdout",
     "output_type": "stream",
     "text": [
      "Defaulting to user installation because normal site-packages is not writeable\n",
      "Requirement already satisfied: requests in c:\\users\\jakub\\appdata\\roaming\\python\\python312\\site-packages (2.32.3)\n",
      "Requirement already satisfied: charset-normalizer<4,>=2 in c:\\users\\jakub\\appdata\\roaming\\python\\python312\\site-packages (from requests) (3.4.0)\n",
      "Requirement already satisfied: idna<4,>=2.5 in c:\\users\\jakub\\appdata\\roaming\\python\\python312\\site-packages (from requests) (3.10)\n",
      "Requirement already satisfied: urllib3<3,>=1.21.1 in c:\\users\\jakub\\appdata\\roaming\\python\\python312\\site-packages (from requests) (2.2.3)\n",
      "Requirement already satisfied: certifi>=2017.4.17 in c:\\users\\jakub\\appdata\\roaming\\python\\python312\\site-packages (from requests) (2024.8.30)\n",
      "Note: you may need to restart the kernel to use updated packages.\n"
     ]
    },
    {
     "name": "stderr",
     "output_type": "stream",
     "text": [
      "\n",
      "[notice] A new release of pip is available: 24.2 -> 24.3.1\n",
      "[notice] To update, run: python.exe -m pip install --upgrade pip\n"
     ]
    }
   ],
   "source": [
    "%pip install requests"
   ]
  },
  {
   "cell_type": "code",
   "execution_count": 2,
   "metadata": {},
   "outputs": [
    {
     "name": "stdout",
     "output_type": "stream",
     "text": [
      "2.32.3\n"
     ]
    }
   ],
   "source": [
    "import requests\n",
    "print(requests.__version__)"
   ]
  },
  {
   "cell_type": "markdown",
   "metadata": {},
   "source": [
    "### Główne cechy biblioteki\n",
    "\n",
    "1. **Łatwość użycia**:\n",
    "   - Prosta i czytelna składnia do wysyłania żądań HTTP.\n",
    "   - Intuicyjny interfejs API.\n",
    "\n",
    "2. **Obsługa różnych metod HTTP**:\n",
    "   - Wsparcie dla metod takich jak GET, POST, PUT, DELETE, HEAD, OPTIONS, PATCH.\n",
    "\n",
    "3. **Obsługa parametrów i nagłówków**:\n",
    "   - Możliwość dodawania parametrów do żądań oraz nagłówków HTTP.\n",
    "\n",
    "4. **Obsługa sesji**:\n",
    "   - Utrzymywanie sesji za pomocą obiektu `requests.Session()` dla zarządzania cookies i sesjami.\n",
    "\n",
    "5. **Obsługa JSON**:\n",
    "   - Automatyczna obsługa danych w formacie JSON z metodami `json()` i `data`.\n",
    "\n",
    "6. **Obsługa przekierowań**:\n",
    "   - Automatyczne śledzenie przekierowań.\n",
    "\n",
    "7. **Obsługa błędów i wyjątków**:\n",
    "   - Wbudowana obsługa wyjątków dla różnych typów błędów HTTP i problemów z połączeniem.\n",
    "\n",
    "8. **Konfigurowalne timeouty**:\n",
    "   - Możliwość ustawiania limitów czasu dla żądań.\n",
    "\n",
    "9. **Obsługa plików**:\n",
    "   - Wsparcie dla przesyłania plików za pomocą POST.\n",
    "\n",
    "10. **Streaming**:\n",
    "    - Obsługa strumieniowego pobierania danych, przydatne dla dużych plików.\n",
    "\n",
    "11. **Wsparcie dla proxy i uwierzytelniania**:\n",
    "    - Obsługa proxy i różnych metod uwierzytelniania, w tym Basic Auth, Digest Auth, i Token Auth.\n",
    "\n",
    "12. **Kompatybilność**:\n",
    "    - Wsparcie dla różnych wersji Pythona (Python 2.7 i 3.x)."
   ]
  },
  {
   "cell_type": "markdown",
   "metadata": {},
   "source": [
    "### Żądania"
   ]
  },
  {
   "cell_type": "markdown",
   "metadata": {},
   "source": [
    "### 1. **GET** – Pobieranie danych z serwera\n",
    "\n",
    "- **Podstawowe użycie**:\n",
    "  \n",
    "  ```python\n",
    "  response = requests.get(url, params=None, **kwargs)\n",
    "  ```\n",
    "\n",
    "- **Dodatkowe parametry**:\n",
    "  - `params`: Słownik, lista krotek, lub str zawierający dane, które mają zostać dołączone do URL jako parametry zapytania.\n",
    "  - `headers`: Nagłówki HTTP, które chcesz dodać do żądania.\n",
    "  - `cookies`: Ciastka, które chcesz wysłać.\n",
    "  - `auth`: Krotka z nazwą użytkownika i hasłem (np. `('user', 'password')`).\n",
    "  - `timeout`: Określa czas (w sekundach) na oczekiwanie na odpowiedź.\n",
    "  - `allow_redirects`: Określa, czy automatycznie śledzić przekierowania (domyślnie `True`)."
   ]
  },
  {
   "cell_type": "code",
   "execution_count": 3,
   "metadata": {},
   "outputs": [],
   "source": [
    "response = requests.get('https://jsonplaceholder.typicode.com/posts', params={'userId': 1}, timeout=5)"
   ]
  },
  {
   "cell_type": "markdown",
   "metadata": {},
   "source": [
    "### 2. **POST** – Wysyłanie danych do serwera\n",
    "\n",
    "- **Podstawowe użycie**:\n",
    "\n",
    "  ```python\n",
    "  response = requests.post(url, data=None, json=None, **kwargs)\n",
    "  ```\n",
    "\n",
    "- **Dodatkowe parametry**:\n",
    "  - `data`: Dane do wysłania w żądaniu (np. formularz, słownik).\n",
    "  - `json`: Dane w formacie JSON do wysłania.\n",
    "  - `headers`: Nagłówki HTTP.\n",
    "  - `files`: Pliki do wysłania, np. za pomocą formularza `multipart/form-data`.\n",
    "  - `cookies`: Ciastka do wysłania.\n",
    "  - `auth`: Uwierzytelnianie podstawowe.\n",
    "  - `timeout`: Określa czas na odpowiedź.\n",
    "  - `allow_redirects`: Określa, czy automatycznie śledzić przekierowania."
   ]
  },
  {
   "cell_type": "code",
   "execution_count": 4,
   "metadata": {},
   "outputs": [],
   "source": [
    "response = requests.post('https://jsonplaceholder.typicode.com/posts', json={'title': 'foo', 'body': 'bar', 'userId': 1})"
   ]
  },
  {
   "cell_type": "markdown",
   "metadata": {},
   "source": [
    "### 3. **PUT** – Aktualizowanie istniejącego zasobu\n",
    "\n",
    "- **Podstawowe użycie**:\n",
    "\n",
    "  ```python\n",
    "  response = requests.put(url, data=None, json=None, **kwargs)\n",
    "  ```\n",
    "\n",
    "- **Dodatkowe parametry**:\n",
    "  - `data`: Dane do wysłania w żądaniu, np. słownik.\n",
    "  - `json`: Dane w formacie JSON.\n",
    "  - `headers`: Nagłówki HTTP.\n",
    "  - `cookies`: Ciastka do wysłania.\n",
    "  - `auth`: Uwierzytelnianie podstawowe.\n",
    "  - `timeout`: Określa czas na odpowiedź.\n",
    "  - `allow_redirects`: Określa, czy automatycznie śledzić przekierowania."
   ]
  },
  {
   "cell_type": "code",
   "execution_count": 5,
   "metadata": {},
   "outputs": [],
   "source": [
    "response = requests.put('https://jsonplaceholder.typicode.com/posts/1', json={'id': 1, 'title': 'updated title', 'body': 'updated body'})"
   ]
  },
  {
   "cell_type": "markdown",
   "metadata": {},
   "source": [
    "### 4. **DELETE** – Usuwanie zasobu z serwera\n",
    "\n",
    "- **Podstawowe użycie**:\n",
    "\n",
    "  ```python\n",
    "  response = requests.delete(url, **kwargs)\n",
    "  ```\n",
    "\n",
    "- **Dodatkowe parametry**:\n",
    "  - `headers`: Nagłówki HTTP.\n",
    "  - `cookies`: Ciastka do wysłania.\n",
    "  - `auth`: Uwierzytelnianie podstawowe.\n",
    "  - `timeout`: Określa czas na odpowiedź.\n",
    "  - `allow_redirects`: Określa, czy automatycznie śledzić przekierowania."
   ]
  },
  {
   "cell_type": "code",
   "execution_count": 6,
   "metadata": {},
   "outputs": [],
   "source": [
    "response = requests.delete('https://jsonplaceholder.typicode.com/posts/1')"
   ]
  },
  {
   "cell_type": "markdown",
   "metadata": {},
   "source": [
    "### 5. **HEAD** – Pobieranie tylko nagłówków odpowiedzi\n",
    "\n",
    "- **Podstawowe użycie**:\n",
    "\n",
    "  ```python\n",
    "  response = requests.head(url, **kwargs)\n",
    "  ```\n",
    "\n",
    "- **Dodatkowe parametry**:\n",
    "  - `headers`: Nagłówki HTTP.\n",
    "  - `cookies`: Ciastka do wysłania.\n",
    "  - `auth`: Uwierzytelnianie podstawowe.\n",
    "  - `timeout`: Określa czas na odpowiedź.\n",
    "  - `allow_redirects`: Określa, czy automatycznie śledzić przekierowania."
   ]
  },
  {
   "cell_type": "code",
   "execution_count": 7,
   "metadata": {},
   "outputs": [],
   "source": [
    "response = requests.head('https://jsonplaceholder.typicode.com/posts')"
   ]
  },
  {
   "cell_type": "markdown",
   "metadata": {},
   "source": [
    "### 6. **OPTIONS** – Pobieranie dostępnych metod HTTP dla zasobu\n",
    "\n",
    "- **Podstawowe użycie**:\n",
    "\n",
    "  ```python\n",
    "  response = requests.options(url, **kwargs)\n",
    "  ```\n",
    "\n",
    "- **Dodatkowe parametry**:\n",
    "  - `headers`: Nagłówki HTTP.\n",
    "  - `cookies`: Ciastka do wysłania.\n",
    "  - `auth`: Uwierzytelnianie podstawowe.\n",
    "  - `timeout`: Określa czas na odpowiedź.\n",
    "  - `allow_redirects`: Określa, czy automatycznie śledzić przekierowania."
   ]
  },
  {
   "cell_type": "code",
   "execution_count": 9,
   "metadata": {},
   "outputs": [],
   "source": [
    "response = requests.options('https://jsonplaceholder.typicode.com/posts')"
   ]
  },
  {
   "cell_type": "markdown",
   "metadata": {},
   "source": [
    "### 7. **PATCH** – Częściowa aktualizacja zasobu\n",
    "\n",
    "- **Podstawowe użycie**:\n",
    "\n",
    "  ```python\n",
    "  response = requests.patch(url, data=None, json=None, **kwargs)\n",
    "  ```\n",
    "\n",
    "- **Dodatkowe parametry**:\n",
    "  - `data`: Dane do wysłania w żądaniu.\n",
    "  - `json`: Dane w formacie JSON.\n",
    "  - `headers`: Nagłówki HTTP.\n",
    "  - `cookies`: Ciastka do wysłania.\n",
    "  - `auth`: Uwierzytelnianie podstawowe.\n",
    "  - `timeout`: Określa czas na odpowiedź.\n",
    "  - `allow_redirects`: Określa, czy automatycznie śledzić przekierowania."
   ]
  },
  {
   "cell_type": "code",
   "execution_count": 10,
   "metadata": {},
   "outputs": [],
   "source": [
    "response = requests.patch('https://jsonplaceholder.typicode.com/posts/1', json={'title': 'patched title'})"
   ]
  },
  {
   "cell_type": "markdown",
   "metadata": {},
   "source": [
    "### Obsługa błędów"
   ]
  },
  {
   "cell_type": "markdown",
   "metadata": {},
   "source": [
    "#### 1. **`requests.RequestException`**\n",
    "   - Bazowa klasa dla wszystkich wyjątków w Requests. Można jej użyć do ogólnej obsługi błędów związanych z żądaniami HTTP.\n",
    "\n",
    "     ```python\n",
    "     try:\n",
    "         response = requests.get('https://example.com')\n",
    "     except requests.RequestException as e:\n",
    "         print(f\"Błąd żądania: {e}\")\n",
    "     ```\n",
    "\n",
    "#### 2. **`requests.ConnectionError`**\n",
    "   - Występuje, gdy nie można nawiązać połączenia z serwerem.\n",
    "   \n",
    "     ```python\n",
    "     try:\n",
    "         response = requests.get('https://nonexistenturl.com')\n",
    "     except requests.ConnectionError as e:\n",
    "         print(f\"Błąd połączenia: {e}\")\n",
    "     ```\n",
    "\n",
    "#### 3. **`requests.HTTPError`**\n",
    "   - Występuje w przypadku błędów HTTP, takich jak 4xx (np. 404 Not Found) i 5xx (np. 500 Internal Server Error). Wyjątek ten można podnieść ręcznie za pomocą metody `raise_for_status()`.\n",
    "     ```python\n",
    "     try:\n",
    "         response = requests.get('https://example.com/notfound')\n",
    "         response.raise_for_status()\n",
    "     except requests.HTTPError as e:\n",
    "         print(f\"Błąd HTTP: {e}\")\n",
    "     ```\n",
    "\n",
    "#### 4. **`requests.URLRequired`**\n",
    "   - Występuje, gdy URL jest wymagany, ale nie został podany.\n",
    "\n",
    "     ```python\n",
    "     try:\n",
    "         response = requests.get('')\n",
    "     except requests.URLRequired as e:\n",
    "         print(f\"URL jest wymagany: {e}\")\n",
    "     ```\n",
    "\n",
    "#### 5. **`requests.TooManyRedirects`**\n",
    "   - Występuje, gdy nastąpiło zbyt wiele przekierowań w trakcie realizacji żądania.\n",
    "\n",
    "     ```python\n",
    "     try:\n",
    "         response = requests.get('https://example.com/redirect', allow_redirects=True)\n",
    "     except requests.TooManyRedirects as e:\n",
    "         print(f\"Zbyt wiele przekierowań: {e}\")\n",
    "     ```\n",
    "\n",
    "#### 6. **`requests.Timeout`**\n",
    "   - Występuje, gdy żądanie przekroczyło limit czasu.\n",
    "\n",
    "     ```python\n",
    "     try:\n",
    "         response = requests.get('https://example.com', timeout=0.001)\n",
    "     except requests.Timeout as e:\n",
    "         print(f\"Przekroczenie limitu czasu: {e}\")\n",
    "     ```\n",
    "\n",
    "#### 7. **`requests.ConnectTimeout`**\n",
    "   - Specjalny przypadek `requests.Timeout`, który występuje podczas przekroczenia limitu czasu nawiązania połączenia.\n",
    "     ```python\n",
    "     try:\n",
    "         response = requests.get('https://example.com', timeout=0.001)\n",
    "     except requests.ConnectTimeout as e:\n",
    "         print(f\"Przekroczenie limitu czasu połączenia: {e}\")\n",
    "     ```\n",
    "\n",
    "#### 8. **`requests.ReadTimeout`**\n",
    "   - Specjalny przypadek `requests.Timeout`, który występuje podczas przekroczenia limitu czasu na odczytanie odpowiedzi.\n",
    "     ```python\n",
    "     try:\n",
    "         response = requests.get('https://example.com', timeout=0.001)\n",
    "     except requests.ReadTimeout as e:\n",
    "         print(f\"Przekroczenie limitu czasu odczytu: {e}\")\n",
    "     ```\n",
    "\n",
    "#### 9. **`requests.FileModeWarning`**\n",
    "   - Ostrzeżenie generowane, gdy plik jest otwierany w trybie binarnym, ale dane są przesyłane jako tekstowe.\n",
    "\n",
    "     ```python\n",
    "     import warnings\n",
    "     warnings.simplefilter('always', requests.FileModeWarning)\n",
    "     ```\n",
    "\n",
    "#### 10. **`requests.JSONDecodeError`**\n",
    "   - Występuje, gdy nie uda się zdekodować odpowiedzi jako JSON.\n",
    "\n",
    "     ```python\n",
    "     try:\n",
    "         response = requests.get('https://example.com')\n",
    "         data = response.json()\n",
    "     except requests.JSONDecodeError as e:\n",
    "         print(f\"Błąd dekodowania JSON: {e}\")\n",
    "     ```"
   ]
  },
  {
   "cell_type": "markdown",
   "metadata": {},
   "source": [
    "### 1. **Metody i właściwości Response**\n",
    "\n",
    "- **`status_code`** - Kod statusu HTTP odpowiedzi (np. 200, 404)\n",
    "- **`text`** - Treść odpowiedzi jako tekst (string)\n",
    "- **`json()`** - Przekształca odpowiedź w formacie JSON na obiekt Python (np. słownik)\n",
    "- **`content`** - Treść odpowiedzi w postaci surowych bajtów (użyteczne przy pobieraniu plików)\n",
    "- **`encoding`** - Kodowanie odpowiedzi. Zwykle automatycznie ustawiane przez Requests\n",
    "- **`headers`** - Nagłówki odpowiedzi jako słownik\n",
    "- **`cookies`** - Zwraca ciastka, które zostały wysłane z odpowiedzią. Wartość jest obiektem `RequestsCookieJar`\n",
    "- **`url`** - URL, z którego pochodzi odpowiedź\n",
    "- **`history`** - Lista odpowiedzi na poprzednie przekierowania (jeśli wystąpiły)\n",
    "- **`iter_lines()`** - Umożliwia iterowanie przez odpowiedź po liniach (użyteczne przy pracy z dużymi plikami tekstowymi)\n",
    "- **`iter_content()`** - Iteruje po zawartości odpowiedzi w surowych bajtach, przydatne przy strumieniowym pobieraniu danych\n",
    "- **`close()`** - Zamknięcie połączenia, przydatne w przypadku pracy z plikami"
   ]
  },
  {
   "cell_type": "code",
   "execution_count": 11,
   "metadata": {},
   "outputs": [],
   "source": [
    "def response_methods(response):\n",
    "    print('status code:', response.status_code)\n",
    "    print('text:', response.text)\n",
    "    data = response.json()\n",
    "    print('json:', data)\n",
    "    print('content:', response.content)\n",
    "    print('encoding:', response.encoding)\n",
    "    print('headers:', response.headers)\n",
    "    print('cookies:', response.cookies)\n",
    "    print('url:', response.url)  \n",
    "    print('history:', response.history)\n",
    "\n",
    "    print('lines:')\n",
    "    i = 1\n",
    "    for line in response.iter_lines():\n",
    "        print(i, line)\n",
    "        i += 1\n",
    "\n",
    "    print('chunks:')\n",
    "    i = 1\n",
    "    for chunk in response.iter_content(chunk_size=128):\n",
    "        print(chunk)\n",
    "        i += 1"
   ]
  },
  {
   "cell_type": "code",
   "execution_count": 12,
   "metadata": {},
   "outputs": [
    {
     "name": "stdout",
     "output_type": "stream",
     "text": [
      "status code: 200\n",
      "text: {\n",
      "  \"userId\": 1,\n",
      "  \"id\": 1,\n",
      "  \"title\": \"sunt aut facere repellat provident occaecati excepturi optio reprehenderit\",\n",
      "  \"body\": \"quia et suscipit\\nsuscipit recusandae consequuntur expedita et cum\\nreprehenderit molestiae ut ut quas totam\\nnostrum rerum est autem sunt rem eveniet architecto\"\n",
      "}\n",
      "json: {'userId': 1, 'id': 1, 'title': 'sunt aut facere repellat provident occaecati excepturi optio reprehenderit', 'body': 'quia et suscipit\\nsuscipit recusandae consequuntur expedita et cum\\nreprehenderit molestiae ut ut quas totam\\nnostrum rerum est autem sunt rem eveniet architecto'}\n",
      "content: b'{\\n  \"userId\": 1,\\n  \"id\": 1,\\n  \"title\": \"sunt aut facere repellat provident occaecati excepturi optio reprehenderit\",\\n  \"body\": \"quia et suscipit\\\\nsuscipit recusandae consequuntur expedita et cum\\\\nreprehenderit molestiae ut ut quas totam\\\\nnostrum rerum est autem sunt rem eveniet architecto\"\\n}'\n",
      "encoding: utf-8\n",
      "headers: {'Date': 'Tue, 07 Jan 2025 18:52:39 GMT', 'Content-Type': 'application/json; charset=utf-8', 'Transfer-Encoding': 'chunked', 'Connection': 'keep-alive', 'Report-To': '{\"group\":\"heroku-nel\",\"max_age\":3600,\"endpoints\":[{\"url\":\"https://nel.heroku.com/reports?ts=1735625518&sid=e11707d5-02a7-43ef-b45e-2cf4d2036f7d&s=hAyUwYQO3XQ4MRVLhcYi7VQfhO2nq9HUl7sque%2FZH5Q%3D\"}]}', 'Reporting-Endpoints': 'heroku-nel=https://nel.heroku.com/reports?ts=1735625518&sid=e11707d5-02a7-43ef-b45e-2cf4d2036f7d&s=hAyUwYQO3XQ4MRVLhcYi7VQfhO2nq9HUl7sque%2FZH5Q%3D', 'Nel': '{\"report_to\":\"heroku-nel\",\"max_age\":3600,\"success_fraction\":0.005,\"failure_fraction\":0.05,\"response_headers\":[\"Via\"]}', 'X-Powered-By': 'Express', 'X-Ratelimit-Limit': '1000', 'X-Ratelimit-Remaining': '999', 'X-Ratelimit-Reset': '1735625565', 'Vary': 'Origin, Accept-Encoding', 'Access-Control-Allow-Credentials': 'true', 'Cache-Control': 'max-age=43200', 'Pragma': 'no-cache', 'Expires': '-1', 'X-Content-Type-Options': 'nosniff', 'Etag': 'W/\"124-yiKdLzqO5gfBrJFrcdJ8Yq0LGnU\"', 'Via': '1.1 vegur', 'CF-Cache-Status': 'HIT', 'Age': '16819', 'Server': 'cloudflare', 'CF-RAY': '8fe625698c6bef8d-WAW', 'Content-Encoding': 'gzip', 'alt-svc': 'h3=\":443\"; ma=86400', 'server-timing': 'cfL4;desc=\"?proto=TCP&rtt=17926&min_rtt=12466&rtt_var=8574&sent=4&recv=6&lost=0&retrans=0&sent_bytes=2842&recv_bytes=785&delivery_rate=232953&cwnd=251&unsent_bytes=0&cid=b7fb75c9b0af319c&ts=46&x=0\"'}\n",
      "cookies: <RequestsCookieJar[]>\n",
      "url: https://jsonplaceholder.typicode.com/posts/1\n",
      "history: []\n",
      "lines:\n",
      "1 b'{'\n",
      "2 b'  \"userId\": 1,'\n",
      "3 b'  \"id\": 1,'\n",
      "4 b'  \"title\": \"sunt aut facere repellat provident occaecati excepturi optio reprehenderit\",'\n",
      "5 b'  \"body\": \"quia et suscipit\\\\nsuscipit recusandae consequuntur expedita et cum\\\\nreprehenderit molestiae ut ut quas totam\\\\nnostrum rerum est autem sunt rem eveniet architecto\"'\n",
      "6 b'}'\n",
      "chunks:\n",
      "b'{\\n  \"userId\": 1,\\n  \"id\": 1,\\n  \"title\": \"sunt aut facere repellat provident occaecati excepturi optio reprehenderit\",\\n  \"body\": \"'\n",
      "b'quia et suscipit\\\\nsuscipit recusandae consequuntur expedita et cum\\\\nreprehenderit molestiae ut ut quas totam\\\\nnostrum rerum est '\n",
      "b'autem sunt rem eveniet architecto\"\\n}'\n"
     ]
    }
   ],
   "source": [
    "url = 'https://jsonplaceholder.typicode.com/posts/1'\n",
    "response = requests.get(url)\n",
    "response_methods(response)"
   ]
  },
  {
   "cell_type": "markdown",
   "metadata": {},
   "source": [
    "### 2. **Właściwości Response**\n",
    "\n",
    "- **`is_redirect`** - Zwraca `True`, jeśli odpowiedź jest przekierowaniem (kody 3xx)\n",
    "- **`is_permanent_redirect`** - Zwraca `True`, jeśli odpowiedź jest trwałym przekierowaniem (np. kod 301)\n",
    "- **`ok`** - Zwraca `True`, jeśli status code jest w zakresie 200-299\n",
    "- **`links`** - Zwraca słownik linków z nagłówka `Link` odpowiedzi, jeśli są dostępne (często przy paginacji)"
   ]
  },
  {
   "cell_type": "markdown",
   "metadata": {},
   "source": [
    "### 3. **Dodatkowe metody i właściwości**\n",
    "\n",
    "- **`connection`** - Zwraca połączenie używane do wykonania żądania (np. socket)\n",
    "- **`next`** - Jeśli odpowiedź była częścią przekierowania lub paginacji, zwraca następną odpowiedź"
   ]
  },
  {
   "cell_type": "markdown",
   "metadata": {},
   "source": [
    "### Proxy"
   ]
  },
  {
   "cell_type": "code",
   "execution_count": null,
   "metadata": {},
   "outputs": [],
   "source": [
    "import requests\n",
    "\n",
    "proxies = {\n",
    "    'http': 'http://proxy.example.com:8080',\n",
    "    'https': 'https://proxy.example.com:8080',\n",
    "}\n",
    "\n",
    "response = requests.get('http://example.com', proxies=proxies)"
   ]
  },
  {
   "cell_type": "markdown",
   "metadata": {},
   "source": [
    "### Uwierzytelnianie Podstawowe (Basic Auth)"
   ]
  },
  {
   "cell_type": "code",
   "execution_count": null,
   "metadata": {},
   "outputs": [],
   "source": [
    "from requests.auth import HTTPBasicAuth\n",
    "\n",
    "auth = HTTPBasicAuth('username', 'password')\n",
    "\n",
    "response = requests.get('https://httpbin.org/basic-auth/username/password', auth=auth)"
   ]
  },
  {
   "cell_type": "markdown",
   "metadata": {},
   "source": [
    "### Uwierzytelnianie za pomocą Tokena"
   ]
  },
  {
   "cell_type": "code",
   "execution_count": null,
   "metadata": {},
   "outputs": [],
   "source": [
    "headers = {\n",
    "    'Authorization': 'ACCESS_TOKEN'\n",
    "}\n",
    "\n",
    "response = requests.get('https://api.example.com/protected', headers=headers)"
   ]
  },
  {
   "cell_type": "markdown",
   "metadata": {},
   "source": [
    "### Sesje"
   ]
  },
  {
   "cell_type": "code",
   "execution_count": 18,
   "metadata": {},
   "outputs": [
    {
     "name": "stdout",
     "output_type": "stream",
     "text": [
      "{'headers': {'Accept': '*/*', 'Accept-Encoding': 'gzip, deflate', 'Host': 'httpbin.org', 'User-Agent': 'my-app', 'X-Amzn-Trace-Id': 'Root=1-677d7853-73c895043468e51d34dd2d1e'}}\n"
     ]
    }
   ],
   "source": [
    "session = requests.Session()\n",
    "session.headers.update({'User-Agent': 'my-app'})\n",
    "\n",
    "response = session.get('https://httpbin.org/headers')\n",
    "print(response.json())"
   ]
  },
  {
   "cell_type": "markdown",
   "metadata": {},
   "source": [
    "### Przekierowania"
   ]
  },
  {
   "cell_type": "code",
   "execution_count": 14,
   "metadata": {},
   "outputs": [
    {
     "name": "stdout",
     "output_type": "stream",
     "text": [
      "301 https://github.com/\n"
     ]
    }
   ],
   "source": [
    "response = requests.get('http://github.com', allow_redirects=False)\n",
    "print(response.status_code, response.headers['Location'])"
   ]
  },
  {
   "cell_type": "markdown",
   "metadata": {},
   "source": [
    "### Obsługa plików"
   ]
  },
  {
   "cell_type": "code",
   "execution_count": 15,
   "metadata": {},
   "outputs": [
    {
     "name": "stdout",
     "output_type": "stream",
     "text": [
      "{'args': {}, 'data': '', 'files': {'file': 'Lorem ipsum dolor sit amet, consectetur adipiscing elit. Fusce ex leo, faucibus ac purus in, lobortis egestas leo. Fusce rhoncus lacus in sem pellentesque, ut ultrices mauris vehicula. Etiam rutrum lacus at sem volutpat ullamcorper id vitae mi. Aliquam erat volutpat. Morbi a venenatis arcu. Integer quis mattis est. Mauris vel viverra velit. Suspendisse vitae sollicitudin dolor, at aliquet libero. Ut sed turpis ac magna imperdiet semper. Ut scelerisque, magna et laoreet sollicitudin, est nisi laoreet felis, nec convallis enim lectus vitae dolor. In non lectus ac urna fringilla accumsan. Quisque commodo, ligula a fringilla malesuada, libero nisl imperdiet arcu, venenatis sollicitudin sapien orci et risus. Proin volutpat ac felis id consequat.\\r\\n\\r\\nNam fermentum nibh et sem convallis, in viverra sapien rhoncus. Donec neque urna, tristique vel odio id, dictum lobortis libero. Pellentesque eu ipsum viverra, finibus justo id, pretium sem. Aliquam leo est, congue et tortor ut, euismod pharetra massa. Praesent sit amet condimentum nisi. Quisque ut est sit amet mauris ullamcorper luctus at sit amet quam. Suspendisse sit amet semper lectus. Duis sit amet consequat lorem. Aenean mattis, neque non faucibus finibus, dolor orci aliquam lorem, nec blandit dui nisi sed justo. Pellentesque tincidunt vestibulum lobortis. Nam tincidunt mattis mi. Quisque venenatis gravida ipsum, vel finibus arcu commodo nec. Nam mattis nulla lectus, non venenatis lorem venenatis non. Vestibulum sagittis odio ut felis feugiat suscipit. Ut efficitur tincidunt elit et molestie.\\r\\n\\r\\nAliquam feugiat iaculis consequat. Mauris nibh lorem, iaculis a accumsan in, elementum nec purus. Sed convallis libero ac sem lobortis, quis placerat erat tristique. Phasellus commodo facilisis suscipit. Pellentesque habitant morbi tristique senectus et netus et malesuada fames ac turpis egestas. Integer auctor arcu sed tempus viverra. Mauris maximus elit tortor, sed ultrices magna condimentum eu.\\r\\n\\r\\nNullam facilisis nisl nibh, vel cursus tortor ullamcorper non. Maecenas pulvinar felis magna. Vivamus a est semper, convallis nisl ut, aliquam est. Aliquam ullamcorper eros lectus, at eleifend lectus scelerisque ut. Vivamus tristique diam ipsum, quis dapibus risus tempor id. Nam nec leo laoreet, rutrum justo ut, varius arcu. Maecenas placerat blandit ultrices. Curabitur vehicula libero ac ipsum dapibus sollicitudin. Ut non cursus ipsum. Sed mollis est vel neque interdum euismod. Maecenas et massa nisl. Ut aliquet ante diam, sit amet interdum tellus auctor quis. Suspendisse eros magna, euismod eget sapien quis, malesuada laoreet tellus.\\r\\n\\r\\nSuspendisse potenti. Duis sit amet ipsum quis lorem tincidunt vestibulum quis ac tortor. Nullam ligula nisl, vehicula non volutpat quis, mattis et arcu. Sed tincidunt purus id eros suscipit, id volutpat dolor rutrum. Donec suscipit ipsum velit, nec imperdiet massa rutrum interdum. Nam scelerisque nulla purus, id feugiat ligula aliquam sit amet. Etiam risus odio, pellentesque non dui id, pretium cursus leo. Nulla bibendum turpis ut ornare pulvinar. Nulla porta sollicitudin diam, et dapibus turpis porta a. Sed volutpat augue in odio blandit commodo. Nam pretium eget massa lacinia dignissim.'}, 'form': {}, 'headers': {'Accept': '*/*', 'Accept-Encoding': 'gzip, deflate', 'Content-Length': '3360', 'Content-Type': 'multipart/form-data; boundary=3e639bbac073a0f14e62f96b3eb742af', 'Host': 'httpbin.org', 'User-Agent': 'python-requests/2.32.3', 'X-Amzn-Trace-Id': 'Root=1-677d783f-0de68fdf4ea2286d33839dba'}, 'json': None, 'origin': '91.226.22.66', 'url': 'https://httpbin.org/post'}\n"
     ]
    }
   ],
   "source": [
    "files = {'file': open('example.txt', 'rb')}\n",
    "response = requests.post('https://httpbin.org/post', files=files)\n",
    "print(response.json())\n",
    "\n",
    "response = requests.get('https://httpbin.org/image/jpeg')\n",
    "with open('image.jpg', 'wb') as f:\n",
    "    f.write(response.content)"
   ]
  },
  {
   "cell_type": "markdown",
   "metadata": {},
   "source": [
    "### Adaptery transportowe"
   ]
  },
  {
   "cell_type": "code",
   "execution_count": 16,
   "metadata": {},
   "outputs": [],
   "source": [
    "from requests.adapters import HTTPAdapter\n",
    "from requests.packages.urllib3.util.retry import Retry\n",
    "\n",
    "session = requests.Session()\n",
    "retry = Retry(connect=3, backoff_factor=0.5)\n",
    "adapter = HTTPAdapter(max_retries=retry)\n",
    "session.mount('http://', adapter)\n",
    "session.mount('https://', adapter)\n",
    "\n",
    "response = session.get('https://httpbin.org/delay/2')"
   ]
  },
  {
   "cell_type": "markdown",
   "metadata": {},
   "source": [
    "### Middleware i hooki"
   ]
  },
  {
   "cell_type": "code",
   "execution_count": 17,
   "metadata": {},
   "outputs": [
    {
     "name": "stdout",
     "output_type": "stream",
     "text": [
      "https://httpbin.org/get\n"
     ]
    }
   ],
   "source": [
    "def print_url(response, *args, **kwargs):\n",
    "    print(response.url)\n",
    "    \n",
    "response = requests.get('https://httpbin.org/get', hooks={'response': print_url})"
   ]
  }
 ],
 "metadata": {
  "kernelspec": {
   "display_name": "Python 3",
   "language": "python",
   "name": "python3"
  },
  "language_info": {
   "codemirror_mode": {
    "name": "ipython",
    "version": 3
   },
   "file_extension": ".py",
   "mimetype": "text/x-python",
   "name": "python",
   "nbconvert_exporter": "python",
   "pygments_lexer": "ipython3",
   "version": "3.12.6"
  }
 },
 "nbformat": 4,
 "nbformat_minor": 2
}
