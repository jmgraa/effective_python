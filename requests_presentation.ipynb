{
 "cells": [
  {
   "cell_type": "markdown",
   "metadata": {},
   "source": [
    "# Requests\n",
    "\n",
    "Biblioteka Requests to narzędzie w Pythonie, które umożliwia łatwe wysyłanie żądań HTTP. Została wprowadzona w 2011 roku przez Kennetha Reitza jako odpowiedź na potrzebę uproszczenia obsługi protokołu HTTP w Pythonie. Zastąpiła bardziej złożone moduły standardowej biblioteki, takie jak **urllib** czy **http.client**."
   ]
  },
  {
   "cell_type": "code",
   "execution_count": null,
   "metadata": {},
   "outputs": [],
   "source": [
    "%pip install requests"
   ]
  },
  {
   "cell_type": "code",
   "execution_count": null,
   "metadata": {},
   "outputs": [],
   "source": [
    "import requests\n",
    "print(requests.__version__)"
   ]
  },
  {
   "cell_type": "markdown",
   "metadata": {},
   "source": [
    "### Główne cechy biblioteki\n",
    "\n",
    "1. **Łatwość użycia**:\n",
    "   - Prosta i czytelna składnia do wysyłania żądań HTTP.\n",
    "   - Intuicyjny interfejs API.\n",
    "\n",
    "2. **Obsługa różnych metod HTTP**:\n",
    "   - Wsparcie dla metod takich jak GET, POST, PUT, DELETE, HEAD, OPTIONS, PATCH.\n",
    "\n",
    "3. **Obsługa parametrów i nagłówków**:\n",
    "   - Możliwość dodawania parametrów do żądań oraz nagłówków HTTP.\n",
    "\n",
    "4. **Obsługa sesji**:\n",
    "   - Utrzymywanie sesji za pomocą obiektu `requests.Session()` dla zarządzania cookies i sesjami.\n",
    "\n",
    "5. **Obsługa JSON**:\n",
    "   - Automatyczna obsługa danych w formacie JSON z metodami `json()` i `data`.\n",
    "\n",
    "6. **Obsługa przekierowań**:\n",
    "   - Automatyczne śledzenie przekierowań.\n",
    "\n",
    "7. **Obsługa błędów i wyjątków**:\n",
    "   - Wbudowana obsługa wyjątków dla różnych typów błędów HTTP i problemów z połączeniem.\n",
    "\n",
    "8. **Konfigurowalne timeouty**:\n",
    "   - Możliwość ustawiania limitów czasu dla żądań.\n",
    "\n",
    "9. **Obsługa plików**:\n",
    "   - Wsparcie dla przesyłania plików za pomocą POST.\n",
    "\n",
    "10. **Streaming**:\n",
    "    - Obsługa strumieniowego pobierania danych, przydatne dla dużych plików.\n",
    "\n",
    "11. **Wsparcie dla proxy i uwierzytelniania**:\n",
    "    - Obsługa proxy i różnych metod uwierzytelniania, w tym Basic Auth, Digest Auth, i Token Auth.\n",
    "\n",
    "12. **Kompatybilność**:\n",
    "    - Wsparcie dla różnych wersji Pythona (Python 2.7 i 3.x)."
   ]
  },
  {
   "cell_type": "markdown",
   "metadata": {},
   "source": [
    "### Żądania"
   ]
  },
  {
   "cell_type": "markdown",
   "metadata": {},
   "source": [
    "### 1. **GET** – Pobieranie danych z serwera\n",
    "\n",
    "- **Podstawowe użycie**:\n",
    "  \n",
    "  ```python\n",
    "  response = requests.get(url, params=None, **kwargs)\n",
    "  ```\n",
    "\n",
    "- **Dodatkowe parametry**:\n",
    "  - `params`: Słownik, lista krotek, lub str zawierający dane, które mają zostać dołączone do URL jako parametry zapytania.\n",
    "  - `headers`: Nagłówki HTTP, które chcesz dodać do żądania.\n",
    "  - `cookies`: Ciastka, które chcesz wysłać.\n",
    "  - `auth`: Krotka z nazwą użytkownika i hasłem (np. `('user', 'password')`).\n",
    "  - `timeout`: Określa czas (w sekundach) na oczekiwanie na odpowiedź.\n",
    "  - `allow_redirects`: Określa, czy automatycznie śledzić przekierowania (domyślnie `True`)."
   ]
  },
  {
   "cell_type": "code",
   "execution_count": 3,
   "metadata": {},
   "outputs": [],
   "source": [
    "response = requests.get('https://jsonplaceholder.typicode.com/posts', params={'userId': 1}, timeout=5)"
   ]
  },
  {
   "cell_type": "markdown",
   "metadata": {},
   "source": [
    "### 2. **POST** – Wysyłanie danych do serwera\n",
    "\n",
    "- **Podstawowe użycie**:\n",
    "\n",
    "  ```python\n",
    "  response = requests.post(url, data=None, json=None, **kwargs)\n",
    "  ```\n",
    "\n",
    "- **Dodatkowe parametry**:\n",
    "  - `data`: Dane do wysłania w żądaniu (np. formularz, słownik).\n",
    "  - `json`: Dane w formacie JSON do wysłania.\n",
    "  - `headers`: Nagłówki HTTP.\n",
    "  - `files`: Pliki do wysłania, np. za pomocą formularza `multipart/form-data`.\n",
    "  - `cookies`: Ciastka do wysłania.\n",
    "  - `auth`: Uwierzytelnianie podstawowe.\n",
    "  - `timeout`: Określa czas na odpowiedź.\n",
    "  - `allow_redirects`: Określa, czy automatycznie śledzić przekierowania."
   ]
  },
  {
   "cell_type": "code",
   "execution_count": 4,
   "metadata": {},
   "outputs": [],
   "source": [
    "response = requests.post('https://jsonplaceholder.typicode.com/posts', json={'title': 'foo', 'body': 'bar', 'userId': 1})"
   ]
  },
  {
   "cell_type": "markdown",
   "metadata": {},
   "source": [
    "### 3. **PUT** – Aktualizowanie istniejącego zasobu\n",
    "\n",
    "- **Podstawowe użycie**:\n",
    "\n",
    "  ```python\n",
    "  response = requests.put(url, data=None, json=None, **kwargs)\n",
    "  ```\n",
    "\n",
    "- **Dodatkowe parametry**:\n",
    "  - `data`: Dane do wysłania w żądaniu, np. słownik.\n",
    "  - `json`: Dane w formacie JSON.\n",
    "  - `headers`: Nagłówki HTTP.\n",
    "  - `cookies`: Ciastka do wysłania.\n",
    "  - `auth`: Uwierzytelnianie podstawowe.\n",
    "  - `timeout`: Określa czas na odpowiedź.\n",
    "  - `allow_redirects`: Określa, czy automatycznie śledzić przekierowania."
   ]
  },
  {
   "cell_type": "code",
   "execution_count": 5,
   "metadata": {},
   "outputs": [],
   "source": [
    "response = requests.put('https://jsonplaceholder.typicode.com/posts/1', json={'id': 1, 'title': 'updated title', 'body': 'updated body'})"
   ]
  },
  {
   "cell_type": "markdown",
   "metadata": {},
   "source": [
    "### 4. **DELETE** – Usuwanie zasobu z serwera\n",
    "\n",
    "- **Podstawowe użycie**:\n",
    "\n",
    "  ```python\n",
    "  response = requests.delete(url, **kwargs)\n",
    "  ```\n",
    "\n",
    "- **Dodatkowe parametry**:\n",
    "  - `headers`: Nagłówki HTTP.\n",
    "  - `cookies`: Ciastka do wysłania.\n",
    "  - `auth`: Uwierzytelnianie podstawowe.\n",
    "  - `timeout`: Określa czas na odpowiedź.\n",
    "  - `allow_redirects`: Określa, czy automatycznie śledzić przekierowania."
   ]
  },
  {
   "cell_type": "code",
   "execution_count": 6,
   "metadata": {},
   "outputs": [],
   "source": [
    "response = requests.delete('https://jsonplaceholder.typicode.com/posts/1')"
   ]
  },
  {
   "cell_type": "markdown",
   "metadata": {},
   "source": [
    "### 5. **HEAD** – Pobieranie tylko nagłówków odpowiedzi\n",
    "\n",
    "- **Podstawowe użycie**:\n",
    "\n",
    "  ```python\n",
    "  response = requests.head(url, **kwargs)\n",
    "  ```\n",
    "\n",
    "- **Dodatkowe parametry**:\n",
    "  - `headers`: Nagłówki HTTP.\n",
    "  - `cookies`: Ciastka do wysłania.\n",
    "  - `auth`: Uwierzytelnianie podstawowe.\n",
    "  - `timeout`: Określa czas na odpowiedź.\n",
    "  - `allow_redirects`: Określa, czy automatycznie śledzić przekierowania."
   ]
  },
  {
   "cell_type": "code",
   "execution_count": 7,
   "metadata": {},
   "outputs": [],
   "source": [
    "response = requests.head('https://jsonplaceholder.typicode.com/posts')"
   ]
  },
  {
   "cell_type": "markdown",
   "metadata": {},
   "source": [
    "### 6. **OPTIONS** – Pobieranie dostępnych metod HTTP dla zasobu\n",
    "\n",
    "- **Podstawowe użycie**:\n",
    "\n",
    "  ```python\n",
    "  response = requests.options(url, **kwargs)\n",
    "  ```\n",
    "\n",
    "- **Dodatkowe parametry**:\n",
    "  - `headers`: Nagłówki HTTP.\n",
    "  - `cookies`: Ciastka do wysłania.\n",
    "  - `auth`: Uwierzytelnianie podstawowe.\n",
    "  - `timeout`: Określa czas na odpowiedź.\n",
    "  - `allow_redirects`: Określa, czy automatycznie śledzić przekierowania."
   ]
  },
  {
   "cell_type": "code",
   "execution_count": null,
   "metadata": {},
   "outputs": [],
   "source": [
    "response = requests.options('https://jsonplaceholder.typicode.com/posts')\n",
    "print(response.headers['allow'])  # Wyświetla dostępne metody"
   ]
  },
  {
   "cell_type": "markdown",
   "metadata": {},
   "source": [
    "### 7. **PATCH** – Częściowa aktualizacja zasobu\n",
    "\n",
    "- **Podstawowe użycie**:\n",
    "\n",
    "  ```python\n",
    "  response = requests.patch(url, data=None, json=None, **kwargs)\n",
    "  ```\n",
    "\n",
    "- **Dodatkowe parametry**:\n",
    "  - `data`: Dane do wysłania w żądaniu.\n",
    "  - `json`: Dane w formacie JSON.\n",
    "  - `headers`: Nagłówki HTTP.\n",
    "  - `cookies`: Ciastka do wysłania.\n",
    "  - `auth`: Uwierzytelnianie podstawowe.\n",
    "  - `timeout`: Określa czas na odpowiedź.\n",
    "  - `allow_redirects`: Określa, czy automatycznie śledzić przekierowania."
   ]
  },
  {
   "cell_type": "code",
   "execution_count": null,
   "metadata": {},
   "outputs": [],
   "source": [
    "response = requests.patch('https://jsonplaceholder.typicode.com/posts/1', json={'title': 'patched title'})"
   ]
  },
  {
   "cell_type": "markdown",
   "metadata": {},
   "source": [
    "### Obsługa błędów"
   ]
  },
  {
   "cell_type": "code",
   "execution_count": null,
   "metadata": {},
   "outputs": [],
   "source": [
    "try:\n",
    "    response = requests.get('https://api.example.com/data')\n",
    "    response.raise_for_status()  # Wywołuje wyjątek dla nieudanych żądań\n",
    "except requests.exceptions.HTTPError as errh:\n",
    "    print(\"HTTP Error:\", errh)\n",
    "except requests.exceptions.ConnectionError as errc:\n",
    "    print(\"Error Connecting:\", errc)\n",
    "except requests.exceptions.Timeout as errt:\n",
    "    print(\"Timeout Error:\", errt)\n",
    "except requests.exceptions.RequestException as err:\n",
    "    print(\"Something Else:\", err)"
   ]
  },
  {
   "cell_type": "markdown",
   "metadata": {},
   "source": [
    "### 1. **Metody i właściwości Response**\n",
    "\n",
    "- **`status_code`** - Kod statusu HTTP odpowiedzi (np. 200, 404)\n",
    "- **`text`** - Treść odpowiedzi jako tekst (string)\n",
    "- **`json()`** - Przekształca odpowiedź w formacie JSON na obiekt Python (np. słownik)\n",
    "- **`content`** - Treść odpowiedzi w postaci surowych bajtów (użyteczne przy pobieraniu plików)\n",
    "- **`encoding`** - Kodowanie odpowiedzi. Zwykle automatycznie ustawiane przez Requests\n",
    "- **`headers`** - Nagłówki odpowiedzi jako słownik\n",
    "- **`cookies`** - Zwraca ciastka, które zostały wysłane z odpowiedzią. Wartość jest obiektem `RequestsCookieJar`\n",
    "- **`url`** - URL, z którego pochodzi odpowiedź\n",
    "- **`history`** - Lista odpowiedzi na poprzednie przekierowania (jeśli wystąpiły)\n",
    "- **`iter_lines()`** - Umożliwia iterowanie przez odpowiedź po liniach (użyteczne przy pracy z dużymi plikami tekstowymi)\n",
    "- **`iter_content()`** - Iteruje po zawartości odpowiedzi w surowych bajtach, przydatne przy strumieniowym pobieraniu danych\n",
    "- **`close()`** - Zamknięcie połączenia, przydatne w przypadku pracy z plikami"
   ]
  },
  {
   "cell_type": "code",
   "execution_count": 11,
   "metadata": {},
   "outputs": [],
   "source": [
    "def response_methods(response):\n",
    "    print('status code:', response.status_code)\n",
    "    print('text:', response.text)\n",
    "    data = response.json()\n",
    "    print('json:', data)\n",
    "    print('content:', response.content)\n",
    "    print('encoding:', response.encoding)\n",
    "    print('headers:', response.headers)\n",
    "    print('cookies:', response.cookies)\n",
    "    print('url:', response.url)  \n",
    "    print('history:', response.history)\n",
    "\n",
    "    print('lines:')\n",
    "    i = 1\n",
    "    for line in response.iter_lines():\n",
    "        print(i, line)\n",
    "        i += 1\n",
    "\n",
    "    print('chunks:')\n",
    "    i = 1\n",
    "    for chunk in response.iter_content(chunk_size=128):\n",
    "        print(chunk)\n",
    "        i += 1"
   ]
  },
  {
   "cell_type": "code",
   "execution_count": null,
   "metadata": {},
   "outputs": [],
   "source": [
    "import requests\n",
    "url = 'https://jsonplaceholder.typicode.com/posts/1'\n",
    "response = requests.get(url)\n",
    "response_methods(response)"
   ]
  },
  {
   "cell_type": "markdown",
   "metadata": {},
   "source": [
    "### 2. **Właściwości Response**\n",
    "\n",
    "- **`is_redirect`** - Zwraca `True`, jeśli odpowiedź jest przekierowaniem (kody 3xx)\n",
    "- **`is_permanent_redirect`** - Zwraca `True`, jeśli odpowiedź jest trwałym przekierowaniem (np. kod 301)\n",
    "- **`ok`** - Zwraca `True`, jeśli status code jest w zakresie 200-299\n",
    "- **`links`** - Zwraca słownik linków z nagłówka `Link` odpowiedzi, jeśli są dostępne (często przy paginacji)"
   ]
  },
  {
   "cell_type": "markdown",
   "metadata": {},
   "source": [
    "### 3. **Dodatkowe metody i właściwości**\n",
    "\n",
    "- **`connection`** - Zwraca połączenie używane do wykonania żądania (np. socket)\n",
    "- **`next`** - Jeśli odpowiedź była częścią przekierowania lub paginacji, zwraca następną odpowiedź"
   ]
  }
 ],
 "metadata": {
  "kernelspec": {
   "display_name": "Python 3",
   "language": "python",
   "name": "python3"
  },
  "language_info": {
   "codemirror_mode": {
    "name": "ipython",
    "version": 3
   },
   "file_extension": ".py",
   "mimetype": "text/x-python",
   "name": "python",
   "nbconvert_exporter": "python",
   "pygments_lexer": "ipython3",
   "version": "3.12.6"
  }
 },
 "nbformat": 4,
 "nbformat_minor": 2
}
