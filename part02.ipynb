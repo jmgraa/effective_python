{
 "cells": [
  {
   "cell_type": "markdown",
   "metadata": {
    "slideshow": {
     "slide_type": "slide"
    }
   },
   "source": [
    "# Efektywne programowanie w języku Python \n",
    "\n",
    "## wykład 2"
   ]
  },
  {
   "cell_type": "markdown",
   "metadata": {
    "slideshow": {
     "slide_type": "slide"
    }
   },
   "source": [
    "## Do you know that?"
   ]
  },
  {
   "cell_type": "markdown",
   "metadata": {
    "slideshow": {
     "slide_type": "subslide"
    }
   },
   "source": [
    "### Explicit line joining"
   ]
  },
  {
   "cell_type": "code",
   "execution_count": null,
   "metadata": {
    "slideshow": {
     "slide_type": "fragment"
    }
   },
   "outputs": [],
   "source": [
    "if 1900 < year < 2100 and 1 <= month <= 12 \\\n",
    "   and 1 <= day <= 31 and 0 <= hour < 24 \\\n",
    "   and 0 <= minute < 60 and 0 <= second < 60:   # Looks like a valid date\n",
    "        return 1"
   ]
  },
  {
   "cell_type": "markdown",
   "metadata": {
    "slideshow": {
     "slide_type": "fragment"
    }
   },
   "source": [
    "Two or more physical lines may be joined into logical lines using backslash characters (\\), as follows: when a physical line ends in a backslash that is not part of a string literal or comment, it is joined with the following forming a single logical line, deleting the backslash and the following end-of-line character."
   ]
  },
  {
   "cell_type": "markdown",
   "metadata": {
    "slideshow": {
     "slide_type": "subslide"
    }
   },
   "source": [
    "###  String literal concatenation"
   ]
  },
  {
   "cell_type": "code",
   "execution_count": null,
   "metadata": {
    "slideshow": {
     "slide_type": "fragment"
    }
   },
   "outputs": [],
   "source": [
    "re.compile(\"[A-Za-z_]\"       # letter or underscore\n",
    "           \"[A-Za-z0-9_]*\"   # letter, digit or underscore\n",
    "          )"
   ]
  },
  {
   "cell_type": "markdown",
   "metadata": {
    "slideshow": {
     "slide_type": "fragment"
    }
   },
   "source": [
    "Multiple adjacent string or bytes literals (delimited by whitespace), possibly using different quoting conventions, are allowed, and their meaning is the same as their concatenation. Thus, \"hello\" 'world' is equivalent to \"helloworld\"."
   ]
  },
  {
   "cell_type": "markdown",
   "metadata": {
    "slideshow": {
     "slide_type": "fragment"
    }
   },
   "source": [
    "Note that this feature is defined at the syntactical level, but implemented at compile time. The ‘+’ operator must be used to concatenate string expressions at run time."
   ]
  },
  {
   "cell_type": "markdown",
   "metadata": {
    "slideshow": {
     "slide_type": "subslide"
    }
   },
   "source": [
    "### We can use semicolons!!!"
   ]
  },
  {
   "cell_type": "code",
   "execution_count": null,
   "metadata": {
    "slideshow": {
     "slide_type": "fragment"
    }
   },
   "outputs": [],
   "source": [
    "x, y, z = 3, 1, 2"
   ]
  },
  {
   "cell_type": "code",
   "execution_count": null,
   "metadata": {
    "slideshow": {
     "slide_type": "fragment"
    }
   },
   "outputs": [],
   "source": [
    "if x < y < z: print(x); print(y); print(z)"
   ]
  },
  {
   "cell_type": "markdown",
   "metadata": {
    "slideshow": {
     "slide_type": "slide"
    }
   },
   "source": [
    "## What is truth?"
   ]
  },
  {
   "cell_type": "code",
   "execution_count": null,
   "metadata": {
    "slideshow": {
     "slide_type": "fragment"
    }
   },
   "outputs": [],
   "source": [
    "# 'Falsy'\n",
    "bool(None)\n",
    "bool(False)\n",
    "bool(0)\n",
    "bool(0.0)\n",
    "bool('')"
   ]
  },
  {
   "cell_type": "code",
   "execution_count": null,
   "metadata": {
    "slideshow": {
     "slide_type": "subslide"
    }
   },
   "outputs": [],
   "source": [
    "# Empty data structures are 'falsy'\n",
    "bool([]) # => False"
   ]
  },
  {
   "cell_type": "code",
   "execution_count": null,
   "metadata": {
    "slideshow": {
     "slide_type": "fragment"
    }
   },
   "outputs": [],
   "source": [
    "# How should we check for an empty list?\n",
    "data = []\n",
    "if data:\n",
    "    process(data):\n",
    "else:\n",
    "    print(\"There's no data!\")"
   ]
  },
  {
   "cell_type": "markdown",
   "metadata": {
    "slideshow": {
     "slide_type": "fragment"
    }
   },
   "source": [
    "> goto opt02 :) part 1"
   ]
  },
  {
   "cell_type": "code",
   "execution_count": null,
   "metadata": {
    "slideshow": {
     "slide_type": "subslide"
    }
   },
   "outputs": [],
   "source": [
    "#You should not use \n",
    "if expr == True:\n",
    "    pass\n",
    "\n",
    "# or\n",
    "if len(data) == 0:\n",
    "    pass"
   ]
  },
  {
   "cell_type": "markdown",
   "metadata": {
    "slideshow": {
     "slide_type": "slide"
    }
   },
   "source": [
    "## Range"
   ]
  },
  {
   "cell_type": "code",
   "execution_count": 4,
   "metadata": {
    "slideshow": {
     "slide_type": "fragment"
    }
   },
   "outputs": [
    {
     "data": {
      "text/plain": [
       "range(1, 3)"
      ]
     },
     "execution_count": 4,
     "metadata": {},
     "output_type": "execute_result"
    }
   ],
   "source": [
    "range(3)\n",
    "# generates 0, 1, 2\n",
    "\n",
    "range(5, 10)\n",
    "# generates 5, 6, 7, 8, 9\n",
    "\n",
    "range(2, 12, 3)\n",
    "# generates 2, 5, 8, 11\n",
    "\n",
    "range(-7, -30, -5)\n",
    "# generates -7, -12, -17, -22, -27\n",
    "\n",
    "range(1, 3)"
   ]
  },
  {
   "cell_type": "code",
   "execution_count": 1,
   "metadata": {
    "slideshow": {
     "slide_type": "subslide"
    }
   },
   "outputs": [
    {
     "name": "stdout",
     "output_type": "stream",
     "text": [
      "<class 'range'>\n",
      "range(0, 10)\n"
     ]
    }
   ],
   "source": [
    "v = range(10)\n",
    "print(type(v))\n",
    "print(v)"
   ]
  },
  {
   "cell_type": "markdown",
   "metadata": {
    "slideshow": {
     "slide_type": "fragment"
    }
   },
   "source": [
    "co tutaj dostaniemy?"
   ]
  },
  {
   "cell_type": "code",
   "execution_count": 2,
   "metadata": {
    "slideshow": {
     "slide_type": "fragment"
    }
   },
   "outputs": [
    {
     "name": "stdout",
     "output_type": "stream",
     "text": [
      "Help on class range in module builtins:\n",
      "\n",
      "class range(object)\n",
      " |  range(stop) -> range object\n",
      " |  range(start, stop[, step]) -> range object\n",
      " |  \n",
      " |  Return an object that produces a sequence of integers from start (inclusive)\n",
      " |  to stop (exclusive) by step.  range(i, j) produces i, i+1, i+2, ..., j-1.\n",
      " |  start defaults to 0, and stop is omitted!  range(4) produces 0, 1, 2, 3.\n",
      " |  These are exactly the valid indices for a list of 4 elements.\n",
      " |  When step is given, it specifies the increment (or decrement).\n",
      " |  \n",
      " |  Methods defined here:\n",
      " |  \n",
      " |  __bool__(self, /)\n",
      " |      self != 0\n",
      " |  \n",
      " |  __contains__(self, key, /)\n",
      " |      Return key in self.\n",
      " |  \n",
      " |  __eq__(self, value, /)\n",
      " |      Return self==value.\n",
      " |  \n",
      " |  __ge__(self, value, /)\n",
      " |      Return self>=value.\n",
      " |  \n",
      " |  __getattribute__(self, name, /)\n",
      " |      Return getattr(self, name).\n",
      " |  \n",
      " |  __getitem__(self, key, /)\n",
      " |      Return self[key].\n",
      " |  \n",
      " |  __gt__(self, value, /)\n",
      " |      Return self>value.\n",
      " |  \n",
      " |  __hash__(self, /)\n",
      " |      Return hash(self).\n",
      " |  \n",
      " |  __iter__(self, /)\n",
      " |      Implement iter(self).\n",
      " |  \n",
      " |  __le__(self, value, /)\n",
      " |      Return self<=value.\n",
      " |  \n",
      " |  __len__(self, /)\n",
      " |      Return len(self).\n",
      " |  \n",
      " |  __lt__(self, value, /)\n",
      " |      Return self<value.\n",
      " |  \n",
      " |  __ne__(self, value, /)\n",
      " |      Return self!=value.\n",
      " |  \n",
      " |  __new__(*args, **kwargs) from builtins.type\n",
      " |      Create and return a new object.  See help(type) for accurate signature.\n",
      " |  \n",
      " |  __reduce__(...)\n",
      " |      helper for pickle\n",
      " |  \n",
      " |  __repr__(self, /)\n",
      " |      Return repr(self).\n",
      " |  \n",
      " |  __reversed__(...)\n",
      " |      Return a reverse iterator.\n",
      " |  \n",
      " |  count(...)\n",
      " |      rangeobject.count(value) -> integer -- return number of occurrences of value\n",
      " |  \n",
      " |  index(...)\n",
      " |      rangeobject.index(value, [start, [stop]]) -> integer -- return index of value.\n",
      " |      Raise ValueError if the value is not present.\n",
      " |  \n",
      " |  ----------------------------------------------------------------------\n",
      " |  Data descriptors defined here:\n",
      " |  \n",
      " |  start\n",
      " |  \n",
      " |  step\n",
      " |  \n",
      " |  stop\n",
      "\n"
     ]
    }
   ],
   "source": [
    "help(range)"
   ]
  },
  {
   "cell_type": "markdown",
   "metadata": {
    "collapsed": true,
    "slideshow": {
     "slide_type": "slide"
    }
   },
   "source": [
    "## Data structures"
   ]
  },
  {
   "cell_type": "markdown",
   "metadata": {
    "slideshow": {
     "slide_type": "slide"
    }
   },
   "source": [
    "### 1. Lists"
   ]
  },
  {
   "cell_type": "markdown",
   "metadata": {
    "slideshow": {
     "slide_type": "fragment"
    }
   },
   "source": [
    "> Finite, ordered, mutable sequence of elements"
   ]
  },
  {
   "cell_type": "code",
   "execution_count": null,
   "metadata": {
    "slideshow": {
     "slide_type": "fragment"
    }
   },
   "outputs": [],
   "source": [
    "simple_list = [1, 2, 3]"
   ]
  },
  {
   "cell_type": "code",
   "execution_count": null,
   "metadata": {
    "slideshow": {
     "slide_type": "subslide"
    }
   },
   "outputs": [],
   "source": [
    "# Create a new list\n",
    "empty = []\n",
    "empty2 = list()\n",
    "letters = ['a', 'b', 'c', 'd']\n",
    "numbers = [2, 3, 5]"
   ]
  },
  {
   "cell_type": "code",
   "execution_count": null,
   "metadata": {
    "slideshow": {
     "slide_type": "fragment"
    }
   },
   "outputs": [],
   "source": [
    "# Lists can contain elements of different types\n",
    "mixed = [4, 5, \"seconds\"]"
   ]
  },
  {
   "cell_type": "code",
   "execution_count": null,
   "metadata": {
    "slideshow": {
     "slide_type": "fragment"
    }
   },
   "outputs": [],
   "source": [
    "# Append elements to the end of a list\n",
    "numbers.append(7) # numbers == [2, 3, 5, 7]\n",
    "numbers.append(11) # numbers == [2, 3, 5, 7, 11]"
   ]
  },
  {
   "cell_type": "code",
   "execution_count": null,
   "metadata": {
    "slideshow": {
     "slide_type": "fragment"
    }
   },
   "outputs": [],
   "source": [
    "# Access elements at a particular index\n",
    "numbers[0] # => 2\n",
    "numbers[-1] # => 11"
   ]
  },
  {
   "cell_type": "code",
   "execution_count": null,
   "metadata": {
    "slideshow": {
     "slide_type": "fragment"
    }
   },
   "outputs": [],
   "source": [
    "# You can also slice lists - the usual rules apply\n",
    "letters[:3] # => ['a', 'b', 'c']\n",
    "numbers[1:-1] # => [3, 5, 7]"
   ]
  },
  {
   "cell_type": "code",
   "execution_count": null,
   "metadata": {
    "slideshow": {
     "slide_type": "subslide"
    }
   },
   "outputs": [],
   "source": [
    "# Nested lists\n",
    "#\n",
    "# Lists really can contain anything - even other lists!\n",
    "x = [letters, numbers]\n",
    "x # => [['a', 'b', 'c', 'd'], [2, 3, 5, 7, 11]]\n",
    "x[0] # => ['a', 'b', 'c', 'd']\n",
    "x[0][1] # => 'b'\n",
    "x[1][2:] # => [5, 7, 11]"
   ]
  },
  {
   "cell_type": "markdown",
   "metadata": {
    "slideshow": {
     "slide_type": "subslide"
    }
   },
   "source": [
    "Methods reference"
   ]
  },
  {
   "cell_type": "code",
   "execution_count": null,
   "metadata": {
    "slideshow": {
     "slide_type": "subslide"
    }
   },
   "outputs": [],
   "source": [
    "# Extend list by appending elements from the iterable\n",
    "my_list.extend(iterable)\n",
    "# Insert object before index\n",
    "my_list.insert(index, object)\n",
    "# Remove first occurrence of value, or raise ValueError\n",
    "my_list.remove(value)\n",
    "# Remove all items\n",
    "my_list.clear()"
   ]
  },
  {
   "cell_type": "code",
   "execution_count": null,
   "metadata": {
    "slideshow": {
     "slide_type": "subslide"
    }
   },
   "outputs": [],
   "source": [
    "# Return number of occurrences of value\n",
    "my_list.count(value)\n",
    "# Return first index of value, or raise ValueError\n",
    "my_list.index(value, [start, [stop]])\n",
    "# Remove, return item at index (def. last) or IndexError\n",
    "my_list.pop([index])\n",
    "# Stable sort *in place*\n",
    "my_list.sort(key=None, reverse=False)\n",
    "# Reverse *in place*.\n",
    "my_list.reverse()"
   ]
  },
  {
   "cell_type": "code",
   "execution_count": null,
   "metadata": {
    "slideshow": {
     "slide_type": "subslide"
    }
   },
   "outputs": [],
   "source": [
    "# Length (len)\n",
    "len([]) # => 0\n",
    "len(\"python\") # => 6\n",
    "len([4,5,\"seconds\"]) # => 3"
   ]
  },
  {
   "cell_type": "code",
   "execution_count": null,
   "metadata": {
    "slideshow": {
     "slide_type": "fragment"
    }
   },
   "outputs": [],
   "source": [
    "# Membership (in)\n",
    "0 in [] # => False\n",
    "'y' in 'python' # => True\n",
    "'minutes' in [4, 5, 'seconds'] # => False"
   ]
  },
  {
   "cell_type": "markdown",
   "metadata": {
    "slideshow": {
     "slide_type": "slide"
    }
   },
   "source": [
    "### 2. Dictionary"
   ]
  },
  {
   "cell_type": "markdown",
   "metadata": {
    "slideshow": {
     "slide_type": "fragment"
    }
   },
   "source": [
    "> Mutable map from hashable values to arbitrary objects"
   ]
  },
  {
   "cell_type": "markdown",
   "metadata": {
    "slideshow": {
     "slide_type": "fragment"
    }
   },
   "source": [
    "Keys can be a variety of types, as long as they are hashable. Values can be a variety of types too."
   ]
  },
  {
   "cell_type": "code",
   "execution_count": 6,
   "metadata": {
    "slideshow": {
     "slide_type": "subslide"
    }
   },
   "outputs": [
    {
     "data": {
      "text/plain": [
       "True"
      ]
     },
     "execution_count": 6,
     "metadata": {},
     "output_type": "execute_result"
    }
   ],
   "source": [
    "empty = {}\n",
    "type(empty) # => dict\n",
    "empty == dict() # => True"
   ]
  },
  {
   "cell_type": "code",
   "execution_count": 9,
   "metadata": {
    "slideshow": {
     "slide_type": "fragment"
    }
   },
   "outputs": [
    {
     "data": {
      "text/plain": [
       "True"
      ]
     },
     "execution_count": 9,
     "metadata": {},
     "output_type": "execute_result"
    }
   ],
   "source": [
    "a = dict(one=1, two=2, three=3)\n",
    "b = {\"one\": 1, \"two\": 2, \"three\": 3}\n",
    "a == b # => True"
   ]
  },
  {
   "cell_type": "code",
   "execution_count": null,
   "metadata": {
    "slideshow": {
     "slide_type": "subslide"
    }
   },
   "outputs": [],
   "source": [
    "b = {\"one\": 1, \"two\": 2, \"three\": 3}\n",
    "\n",
    "# Get\n",
    "d['one'] # => 1\n",
    "d['five'] # raises KeyError\n",
    "\n",
    "# Set\n",
    "d['two'] = 22 # Modify an existing key\n",
    "d['four'] = 4 # Add a new key"
   ]
  },
  {
   "cell_type": "code",
   "execution_count": null,
   "metadata": {
    "slideshow": {
     "slide_type": "subslide"
    }
   },
   "outputs": [],
   "source": [
    "d = {\"CS\":[106, 107, 110], \"MATH\": [51, 113]}\n",
    "\n",
    "d[\"COMPSCI\"] # raises KeyError\n",
    "\n",
    "# Use get() method to avoid the KeyError\n",
    "d.get(\"CS\") # => [106, 107, 110]\n",
    "d.get(\"PHIL\") # => None (not a KeyError!)\n",
    "\n",
    "english_classes = d.get(\"ENGLISH\", [])\n",
    "num_english = len(english_classes)"
   ]
  },
  {
   "cell_type": "code",
   "execution_count": null,
   "metadata": {
    "slideshow": {
     "slide_type": "subslide"
    }
   },
   "outputs": [],
   "source": [
    "d = {\"one\": 1, \"two\": 2, \"three\": 3}\n",
    "\n",
    "#Raises KeyError if invalid key\n",
    "del d[\"one\"]\n",
    "\n",
    "#Remove and return d['three'] or default value if not in the map\n",
    "d.pop(\"three\", default) # => 3\n",
    "\n",
    "# Remove and return an arbitrary (key, value) pair. Useful for destructive iteration\n",
    "d.popitem() # => (\"two\", 2)"
   ]
  },
  {
   "cell_type": "code",
   "execution_count": null,
   "metadata": {
    "slideshow": {
     "slide_type": "subslide"
    }
   },
   "outputs": [],
   "source": [
    "d = {\"one\": 1, \"two\": 2, \"three\": 3}\n",
    "\n",
    "# These dictionary views are dynamic, reflecting changes in the underlying dictionary!\n",
    "d.keys()\n",
    "d.values()\n",
    "d.items()\n",
    "\n",
    "('one', 1) in d.items()"
   ]
  },
  {
   "cell_type": "code",
   "execution_count": null,
   "metadata": {
    "slideshow": {
     "slide_type": "subslide"
    }
   },
   "outputs": [],
   "source": [
    "len(d)\n",
    "\n",
    "key in d # equiv. to `key in d.keys()`\n",
    "\n",
    "value in d.values()\n",
    "\n",
    "d.copy()\n",
    "d.clear()\n",
    "\n",
    "for key in d: # equiv. to `for key in d.keys():`\n",
    "    print(key)\n",
    "    \n",
    "    \n",
    "for k, v in d.items():\n",
    "    print(k, ': ', v)"
   ]
  },
  {
   "cell_type": "markdown",
   "metadata": {
    "collapsed": true,
    "slideshow": {
     "slide_type": "slide"
    }
   },
   "source": [
    "### 3. Tuples"
   ]
  },
  {
   "cell_type": "markdown",
   "metadata": {
    "slideshow": {
     "slide_type": "fragment"
    }
   },
   "source": [
    "> Immutable Sequences\n",
    ">\n",
    "> To:\n",
    "> 1. Store collections of heterogeneous data\n",
    "> 2. \"Freeze\" sequence to ensure hashability\n",
    "> 3. Enforce immutability for fixed-size collections"
   ]
  },
  {
   "cell_type": "code",
   "execution_count": null,
   "metadata": {
    "slideshow": {
     "slide_type": "subslide"
    }
   },
   "outputs": [],
   "source": [
    "fish = (1, 2, \"red\", \"blue\")\n",
    "fish[0] # => 1\n",
    "fish[0] = 7 # Raises a TypeError"
   ]
  },
  {
   "cell_type": "code",
   "execution_count": null,
   "metadata": {
    "slideshow": {
     "slide_type": "fragment"
    }
   },
   "outputs": [],
   "source": [
    "len(fish) # => 4\n",
    "fish[:2] # => (1, 2)\n",
    "\"red\" in fish # => True"
   ]
  },
  {
   "cell_type": "markdown",
   "metadata": {
    "slideshow": {
     "slide_type": "subslide"
    }
   },
   "source": [
    "#### Argument Packing and Unpacking"
   ]
  },
  {
   "cell_type": "code",
   "execution_count": null,
   "metadata": {
    "slideshow": {
     "slide_type": "fragment"
    }
   },
   "outputs": [],
   "source": [
    "# Comma-separated Rvalues are converted to a tuple\n",
    "t = 12345, 54321, 'hello!'\n",
    "print(t) # (12345, 54321, 'hello!')\n",
    "type(t) # => tuple"
   ]
  },
  {
   "cell_type": "code",
   "execution_count": null,
   "metadata": {
    "slideshow": {
     "slide_type": "fragment"
    }
   },
   "outputs": [],
   "source": [
    "# Comma-separated Lvalues are unpacked automatically\n",
    "x, y, z = t\n",
    "x # => 12345\n",
    "y # => 54321\n",
    "z # => 'hello!'"
   ]
  },
  {
   "cell_type": "code",
   "execution_count": null,
   "metadata": {
    "slideshow": {
     "slide_type": "subslide"
    }
   },
   "outputs": [],
   "source": [
    "for index, color in enumerate(['red','green','blue']):\n",
    "    print(index, color)\n",
    "    \n",
    "# =>\n",
    "# 0 red\n",
    "# 1 green\n",
    "# 2 blue\n",
    "\n",
    "# SOOOOoooooo:\n",
    "#This also means you should almost never use\n",
    "for i in range(len(sequence)):\n",
    "    pass"
   ]
  },
  {
   "cell_type": "markdown",
   "metadata": {
    "slideshow": {
     "slide_type": "subslide"
    }
   },
   "source": [
    "> Tuples contain (immutable) references to underlying objects!"
   ]
  },
  {
   "cell_type": "code",
   "execution_count": null,
   "metadata": {
    "slideshow": {
     "slide_type": "fragment"
    }
   },
   "outputs": [],
   "source": [
    "v = ([1, 2, 3], ['a', 'b', 'c'])\n",
    "v[0].append(4)\n",
    "v # => ([1, 2, 3, 4], ['a', 'b', 'c'])"
   ]
  },
  {
   "cell_type": "markdown",
   "metadata": {
    "slideshow": {
     "slide_type": "subslide"
    }
   },
   "source": [
    "A special problem is the construction of tuples containing 0 or 1 items: the syntax has some extra quirks to accommodate these. Empty tuples are constructed by an empty pair of parentheses; a tuple with one item is constructed by following a value with a comma (it is not sufficient to enclose a single value in parentheses). Ugly, but effective. For example:"
   ]
  },
  {
   "cell_type": "code",
   "execution_count": 12,
   "metadata": {},
   "outputs": [
    {
     "name": "stdout",
     "output_type": "stream",
     "text": [
      "('ww',) 1 <class 'tuple'>\n"
     ]
    }
   ],
   "source": [
    "r = \"ww\", \n",
    "print(r, len(r), type(r))"
   ]
  },
  {
   "cell_type": "code",
   "execution_count": null,
   "metadata": {
    "slideshow": {
     "slide_type": "fragment"
    }
   },
   "outputs": [],
   "source": [
    ">>> empty = ()\n",
    ">>> singleton = 'hello',    # <-- note trailing comma\n",
    ">>> len(empty)\n",
    "0\n",
    ">>> len(singleton)\n",
    "1\n",
    ">>> singleton\n",
    "('hello',)"
   ]
  },
  {
   "cell_type": "markdown",
   "metadata": {
    "slideshow": {
     "slide_type": "slide"
    }
   },
   "source": [
    "### 4. Sets"
   ]
  },
  {
   "cell_type": "markdown",
   "metadata": {
    "slideshow": {
     "slide_type": "fragment"
    }
   },
   "source": [
    "> Unordered collection of distinct hashable elements\n",
    ">\n",
    "> To:\n",
    "> 1. Fast membership testing: O(1) vs. O(n)\n",
    "> 2. Eliminate duplicate entries\n",
    "> 3. Easy set operations (intersection, union, etc.)"
   ]
  },
  {
   "cell_type": "code",
   "execution_count": 1,
   "metadata": {
    "slideshow": {
     "slide_type": "fragment"
    }
   },
   "outputs": [
    {
     "name": "stdout",
     "output_type": "stream",
     "text": [
      "<class 'set'>\n"
     ]
    }
   ],
   "source": [
    "s = {1, 2, 3}\n",
    "print(type(s))"
   ]
  },
  {
   "cell_type": "code",
   "execution_count": null,
   "metadata": {
    "slideshow": {
     "slide_type": "subslide"
    }
   },
   "outputs": [],
   "source": [
    "empty_set = set()\n",
    "set_from_list = set([1, 2, 1, 4, 3]) # => {1, 3, 4, 2}\n",
    "\n",
    "basket = {\"apple\", \"orange\", \"apple\", \"pear\", \"banana\"}\n",
    "len(basket) # => 4\n",
    "\n",
    "\"orange\" in basket # => True\n",
    "\"crabgrass\" in basket # => False\n",
    "\n",
    "for fruit in basket:\n",
    "    print(fruit, end='/')\n",
    "# => pear/banana/apple/orange/"
   ]
  },
  {
   "cell_type": "code",
   "execution_count": null,
   "metadata": {
    "slideshow": {
     "slide_type": "subslide"
    }
   },
   "outputs": [],
   "source": [
    "a = set(\"mississippi\") # {'i', 'm', 'p', 's'}\n",
    "\n",
    "a.add('r')\n",
    "a.remove('m') # raises KeyError if 'm' is not present\n",
    "a.discard('x') # same as remove, except no error\n",
    "\n",
    "a.pop() # => 's' (or 'i' or 'p')\n",
    "\n",
    "a.clear()\n",
    "\n",
    "len(a) # => 0"
   ]
  },
  {
   "cell_type": "code",
   "execution_count": null,
   "metadata": {
    "slideshow": {
     "slide_type": "subslide"
    }
   },
   "outputs": [],
   "source": [
    "a = set(\"abracadabra\") # {'a', 'r', 'b', 'c', 'd'}\n",
    "b = set(\"alacazam\") # {'a', 'm', 'c', 'l', 'z'}\n",
    "\n",
    "# Set difference\n",
    "a - b # => {'r', 'd', 'b'}\n",
    "\n",
    "# Union\n",
    "a | b # => {'a', 'c', 'r', 'd', 'b', 'm', 'z', 'l'}\n",
    "\n",
    "# Intersection\n",
    "a & b # => {'a', 'c'}\n",
    "\n",
    "# Symmetric Difference\n",
    "a ^ b # => {'r', 'd', 'b', 'm', 'z', 'l'}"
   ]
  },
  {
   "cell_type": "markdown",
   "metadata": {
    "slideshow": {
     "slide_type": "subslide"
    }
   },
   "source": [
    "> goto opt02 :) part 2"
   ]
  },
  {
   "cell_type": "markdown",
   "metadata": {
    "slideshow": {
     "slide_type": "slide"
    }
   },
   "source": [
    "### Loops"
   ]
  },
  {
   "cell_type": "markdown",
   "metadata": {
    "slideshow": {
     "slide_type": "subslide"
    }
   },
   "source": [
    "#### Items in Dictionary"
   ]
  },
  {
   "cell_type": "code",
   "execution_count": null,
   "metadata": {
    "slideshow": {
     "slide_type": "fragment"
    }
   },
   "outputs": [],
   "source": [
    "knights = {'gallahad': 'the pure', 'robin': 'the brave'}\n",
    "\n",
    "for k, v in knights.items():\n",
    "    print(k, v)\n",
    "\n",
    "# =>\n",
    "# gallahad the pure\n",
    "# robin the brave"
   ]
  },
  {
   "cell_type": "markdown",
   "metadata": {
    "slideshow": {
     "slide_type": "subslide"
    }
   },
   "source": [
    "#### zip"
   ]
  },
  {
   "cell_type": "code",
   "execution_count": 1,
   "metadata": {
    "slideshow": {
     "slide_type": "fragment"
    }
   },
   "outputs": [
    {
     "name": "stdout",
     "output_type": "stream",
     "text": [
      "What is your name? Lancelot.\n",
      "What is your quest? To seek the holy grail.\n",
      "What is your favorite color? Blue.\n"
     ]
    }
   ],
   "source": [
    "questions = ['name', 'quest', 'favorite color', 'BAD']\n",
    "answers = ['Lancelot', 'To seek the holy grail', 'Blue']\n",
    "\n",
    "for q, a in zip(questions, answers):\n",
    "    print('What is your {0}? {1}.'.format(q, a))\n",
    "\n",
    "# =>\n",
    "# What is your name? Lancelot.\n",
    "# What is your quest? To seek the holy grail.\n",
    "# What is your favorite color? Blue."
   ]
  },
  {
   "cell_type": "markdown",
   "metadata": {
    "slideshow": {
     "slide_type": "fragment"
    }
   },
   "source": [
    "The zip() function generates pairs of entries from its arguments."
   ]
  },
  {
   "cell_type": "code",
   "execution_count": 7,
   "metadata": {},
   "outputs": [
    {
     "name": "stdout",
     "output_type": "stream",
     "text": [
      "('Aston', 'Audi', 'McLaren')\n",
      "('GPS', 'Car Repair', 'Dolby sound kit')\n"
     ]
    }
   ],
   "source": [
    "# Unzip lists \n",
    "l1,l2 = zip(*[('Aston', 'GPS'),  \n",
    "              ('Audi', 'Car Repair'),  \n",
    "              ('McLaren', 'Dolby sound kit')  \n",
    "           ]) \n",
    "# Printing unzipped lists       \n",
    "print(l1) \n",
    "print(l2) "
   ]
  },
  {
   "cell_type": "markdown",
   "metadata": {
    "slideshow": {
     "slide_type": "subslide"
    }
   },
   "source": [
    "#### Reverse Iteration"
   ]
  },
  {
   "cell_type": "code",
   "execution_count": null,
   "metadata": {
    "slideshow": {
     "slide_type": "fragment"
    }
   },
   "outputs": [],
   "source": [
    "for i in reversed(range(1, 10, 2)):\n",
    "    print(i, end=', ')\n",
    "# =>\n",
    "# 9, 7, 5, 3, 1,"
   ]
  },
  {
   "cell_type": "markdown",
   "metadata": {
    "slideshow": {
     "slide_type": "subslide"
    }
   },
   "source": [
    "#### Sorted Iteration"
   ]
  },
  {
   "cell_type": "code",
   "execution_count": 13,
   "metadata": {
    "slideshow": {
     "slide_type": "fragment"
    }
   },
   "outputs": [
    {
     "name": "stdout",
     "output_type": "stream",
     "text": [
      "apple\n",
      "banana\n",
      "orange\n",
      "pear\n",
      "pear\n"
     ]
    }
   ],
   "source": [
    "basket = ['pear', 'banana', 'orange', 'pear', 'apple']\n",
    "\n",
    "for fruit in sorted(basket):\n",
    "    print(fruit)\n",
    "\n",
    "# =>\n",
    "# apple\n",
    "# banana\n",
    "# orange\n",
    "# pear\n",
    "# pear"
   ]
  },
  {
   "cell_type": "markdown",
   "metadata": {
    "slideshow": {
     "slide_type": "fragment"
    }
   },
   "source": [
    "To loop over a sequence in sorted order, use the sorted() function which returns a new sorted list while leaving the source unaltered."
   ]
  },
  {
   "cell_type": "markdown",
   "metadata": {
    "slideshow": {
     "slide_type": "slide"
    }
   },
   "source": [
    "### Comprehensions"
   ]
  },
  {
   "cell_type": "markdown",
   "metadata": {
    "slideshow": {
     "slide_type": "subslide"
    }
   },
   "source": [
    "**List comprehensions** provide a concise way to create lists. Common applications are to make new lists where each element is the result of some operations applied to each member of another sequence or iterable, or to create a subsequence of those elements that satisfy a certain condition."
   ]
  },
  {
   "cell_type": "code",
   "execution_count": null,
   "metadata": {
    "slideshow": {
     "slide_type": "fragment"
    }
   },
   "outputs": [],
   "source": [
    "squares = []\n",
    "for x in range(10):\n",
    "    squares.append(x**2)\n",
    "\n",
    "squares"
   ]
  },
  {
   "cell_type": "code",
   "execution_count": null,
   "metadata": {
    "slideshow": {
     "slide_type": "fragment"
    }
   },
   "outputs": [],
   "source": [
    "squares = [x**2 for x in range(10)]"
   ]
  },
  {
   "cell_type": "code",
   "execution_count": null,
   "metadata": {
    "slideshow": {
     "slide_type": "fragment"
    }
   },
   "outputs": [],
   "source": [
    "[f(xs) for xs in iter]\n",
    "# Loop over the specified iterable and apply some operation to generate new list elements"
   ]
  },
  {
   "cell_type": "code",
   "execution_count": null,
   "metadata": {
    "slideshow": {
     "slide_type": "fragment"
    }
   },
   "outputs": [],
   "source": [
    "[f(xs) for xs in iter if pred(xs)]\n",
    "# Only keep elements that satisfy a predicate condition"
   ]
  },
  {
   "cell_type": "code",
   "execution_count": 2,
   "metadata": {
    "slideshow": {
     "slide_type": "subslide"
    }
   },
   "outputs": [
    {
     "data": {
      "text/plain": [
       "[(1, 0),\n",
       " (2, 0),\n",
       " (2, 1),\n",
       " (3, 0),\n",
       " (3, 1),\n",
       " (3, 2),\n",
       " (4, 0),\n",
       " (4, 1),\n",
       " (4, 2),\n",
       " (4, 3)]"
      ]
     },
     "execution_count": 2,
     "metadata": {},
     "output_type": "execute_result"
    }
   ],
   "source": [
    "# [word.lower() for word in sentence]\n",
    "\n",
    "# [word for word in sentence if len(word) > 8]\n",
    "\n",
    "[(x, x ** 2, x ** 3) for x in range(10)]\n",
    "\n",
    "[(i,j) for i in range(5) for j in range(i)]"
   ]
  },
  {
   "cell_type": "code",
   "execution_count": 10,
   "metadata": {
    "slideshow": {
     "slide_type": "subslide"
    }
   },
   "outputs": [
    {
     "data": {
      "text/plain": [
       "[(3, 0), (3, 1), (3, 2), (4, 0), (4, 1), (4, 2), (4, 3)]"
      ]
     },
     "execution_count": 10,
     "metadata": {},
     "output_type": "execute_result"
    }
   ],
   "source": [
    "[(i,j) for i in range(5) if i >2 for j in range(i) ]"
   ]
  },
  {
   "cell_type": "code",
   "execution_count": 3,
   "metadata": {
    "slideshow": {
     "slide_type": "subslide"
    }
   },
   "outputs": [
    {
     "data": {
      "text/plain": [
       "[(1, 3), (1, 4), (2, 3), (2, 1), (2, 4), (3, 1), (3, 4)]"
      ]
     },
     "execution_count": 3,
     "metadata": {},
     "output_type": "execute_result"
    }
   ],
   "source": [
    "[(x, y) for x in [1,2,3] for y in [3,1,4] if x != y]"
   ]
  },
  {
   "cell_type": "markdown",
   "metadata": {
    "slideshow": {
     "slide_type": "fragment"
    }
   },
   "source": [
    "it’s equivalent to"
   ]
  },
  {
   "cell_type": "code",
   "execution_count": null,
   "metadata": {
    "slideshow": {
     "slide_type": "fragment"
    }
   },
   "outputs": [],
   "source": [
    "combs = []\n",
    "for x in [1,2,3]:\n",
    "    for y in [3,1,4]:\n",
    "        if x != y:\n",
    "            combs.append((x, y))\n",
    "combs"
   ]
  },
  {
   "cell_type": "code",
   "execution_count": null,
   "metadata": {
    "slideshow": {
     "slide_type": "subslide"
    }
   },
   "outputs": [],
   "source": [
    "# Dictionary Comprehensions\n",
    "{key_func(vars):val_func(vars) for vars in iterable}\n",
    "{v:k for k, v in d.items()}"
   ]
  },
  {
   "cell_type": "code",
   "execution_count": null,
   "metadata": {
    "slideshow": {
     "slide_type": "fragment"
    }
   },
   "outputs": [],
   "source": [
    "# Set Comprehensions\n",
    "{func(vars) for vars in iterable}\n",
    "{word for word in hamlet if is_palindrome(word.lower())}"
   ]
  },
  {
   "cell_type": "code",
   "execution_count": 8,
   "metadata": {
    "slideshow": {
     "slide_type": "subslide"
    }
   },
   "outputs": [
    {
     "data": {
      "text/plain": [
       "True"
      ]
     },
     "execution_count": 8,
     "metadata": {},
     "output_type": "execute_result"
    }
   ],
   "source": [
    "# (1, 2, 3)              < (1, 2, 4)                    # True\n",
    "# [1, 2, 3]              < [1, 2, 4]\n",
    "# 'ABC' < 'C' < 'Pascal' < 'Python'\n",
    "# (1, 2, 3, 4)           < (1, 2, 4)\n",
    "# (1, 2)                 < (1, 2, -1)\n",
    "# (1, 2, 3)             == (1.0, 2.0, 3.0)\n",
    "# (1, 2, ('aa', 'ab'))   < (1, 2, ('abc', 'a'), 4)"
   ]
  },
  {
   "cell_type": "markdown",
   "metadata": {
    "slideshow": {
     "slide_type": "fragment"
    }
   },
   "source": [
    "Sequence objects may be compared to other objects with the same sequence type. The comparison uses lexicographical ordering: first the first two items are compared, and if they differ this determines the outcome of the comparison; if not, the next two items are compared, and so on..."
   ]
  },
  {
   "cell_type": "markdown",
   "metadata": {},
   "source": [
    "https://martinheinz.dev/blog/80"
   ]
  },
  {
   "cell_type": "markdown",
   "metadata": {
    "slideshow": {
     "slide_type": "slide"
    }
   },
   "source": [
    "## Time complexity???"
   ]
  },
  {
   "cell_type": "markdown",
   "metadata": {
    "slideshow": {
     "slide_type": "fragment"
    }
   },
   "source": [
    "[https://wiki.python.org/moin/TimeComplexity](https://wiki.python.org/moin/TimeComplexity)"
   ]
  },
  {
   "cell_type": "markdown",
   "metadata": {
    "slideshow": {
     "slide_type": "slide"
    }
   },
   "source": [
    "Source\n",
    "1. [http://treyhunner.com/2015/12/python-list-comprehensions-now-in-color/](http://treyhunner.com/2015/12/python-list-comprehensions-now-in-color/)\n"
   ]
  },
  {
   "cell_type": "markdown",
   "metadata": {
    "slideshow": {
     "slide_type": "slide"
    }
   },
   "source": [
    "## Is it really fast??"
   ]
  },
  {
   "cell_type": "code",
   "execution_count": 2,
   "metadata": {
    "slideshow": {
     "slide_type": "subslide"
    }
   },
   "outputs": [
    {
     "ename": "ModuleNotFoundError",
     "evalue": "No module named 'numpy'",
     "output_type": "error",
     "traceback": [
      "\u001b[1;31m---------------------------------------------------------------------------\u001b[0m",
      "\u001b[1;31mModuleNotFoundError\u001b[0m                       Traceback (most recent call last)",
      "Cell \u001b[1;32mIn[2], line 4\u001b[0m\n\u001b[0;32m      2\u001b[0m \u001b[38;5;28;01mimport\u001b[39;00m \u001b[38;5;21;01msys\u001b[39;00m\n\u001b[0;32m      3\u001b[0m \u001b[38;5;28;01mfrom\u001b[39;00m \u001b[38;5;21;01mdatetime\u001b[39;00m \u001b[38;5;28;01mimport\u001b[39;00m datetime, timedelta\n\u001b[1;32m----> 4\u001b[0m \u001b[38;5;28;01mimport\u001b[39;00m \u001b[38;5;21;01mnumpy\u001b[39;00m\n\u001b[0;32m      5\u001b[0m \u001b[38;5;28;01mfrom\u001b[39;00m \u001b[38;5;21;01mtqdm\u001b[39;00m \u001b[38;5;28;01mimport\u001b[39;00m tqdm\n\u001b[0;32m      6\u001b[0m \u001b[38;5;28;01mimport\u001b[39;00m \u001b[38;5;21;01mmatplotlib\u001b[39;00m\u001b[38;5;21;01m.\u001b[39;00m\u001b[38;5;21;01mpyplot\u001b[39;00m \u001b[38;5;28;01mas\u001b[39;00m \u001b[38;5;21;01mpyplot\u001b[39;00m\n",
      "\u001b[1;31mModuleNotFoundError\u001b[0m: No module named 'numpy'"
     ]
    }
   ],
   "source": [
    "# https://codereview.stackexchange.com/questions/23441/are-these-list-comprehensions-written-the-fastest-possible-way\n",
    "import sys\n",
    "from datetime import datetime, timedelta\n",
    "import numpy\n",
    "from tqdm import tqdm\n",
    "import matplotlib.pyplot as pyplot\n",
    "pyplot.rcParams['figure.figsize'] = [10, 5]\n",
    "%matplotlib notebook\n",
    "\n",
    "def doingnothing(n):\n",
    "    for i in range(n):\n",
    "        pass\n",
    "    return []\n",
    "\n",
    "def numpysum(n): #NPY\n",
    "    a = numpy.arange(n) ** 2.\n",
    "    b = numpy.arange(n) ** 3.\n",
    "    c = a + b\n",
    "    return c\n",
    "\n",
    "def listexpression(n):  #LE\n",
    "    #return [x**2+x**3 for x in range(n)]\n",
    "    return [x*x+x*x*x for x in range(n)]\n",
    "\n",
    "def dictcomprehension(n):  #DC\n",
    "    # a = {x:x**2+x**3 for x in range(n)}\n",
    "    a = {x:x*x+x*x*x for x in range(n)}\n",
    "    # return [a[key] for key in a]\n",
    "    return list(a.values())\n",
    "\n",
    "def pythonsum(n): #PS\n",
    "#     a = list(range(n))\n",
    "#     b = list(range(n))\n",
    "    c = []\n",
    "    \n",
    "    for i in range(n):\n",
    "        c.append(i**2 + i**3)\n",
    "\n",
    "#     for i in range(len(a)):\n",
    "#             # a[i] = i ** 2.\n",
    "#             a[i] = i * i \n",
    "#             # b[i] = i ** 3.\n",
    "#             b[i] = i * i * i\n",
    "#             c.append(a[i] + b[i])\n",
    "    return c\n",
    "\n",
    "def runtimetest(size,verbose=True,it=5):\n",
    "    v = verbose\n",
    "    d = {'DoingNothing':None,\n",
    "         'NPY':None,\n",
    "         'LE':None,\n",
    "         'DC':None,\n",
    "         'PS':None}\n",
    "\n",
    "    val = []\n",
    "    for i in range(it):\n",
    "        start = datetime.now()\n",
    "        c = doingnothing(size)\n",
    "        val.append(datetime.now() - start)\n",
    "    d['DoingNothing'] = sum(val, timedelta(0)) / len(val)\n",
    "\n",
    "    val = []\n",
    "    for i in range(it):\n",
    "        start = datetime.now()\n",
    "        c = numpysum(size)\n",
    "        val.append(datetime.now() - start)\n",
    "    d['NPY'] = sum(val, timedelta(0)) / len(val)\n",
    "\n",
    "    val = []\n",
    "    for i in range(it):\n",
    "        start = datetime.now()\n",
    "        c = listexpression(size)\n",
    "        val.append(datetime.now() - start)\n",
    "    d['LE'] = sum(val, timedelta(0)) / len(val)\n",
    "\n",
    "    val = []\n",
    "    for i in range(it):\n",
    "        start = datetime.now()\n",
    "        c = dictcomprehension(size)\n",
    "        val.append(datetime.now() - start)\n",
    "    d['DC'] = sum(val, timedelta(0)) / len(val)\n",
    "    \n",
    "    val = []\n",
    "    for i in range(it):\n",
    "        start = datetime.now()\n",
    "        c = pythonsum(size)\n",
    "        val.append(datetime.now() - start)\n",
    "    d['PS'] = sum(val, timedelta(0)) / len(val)\n",
    "        \n",
    "    return d\n",
    "\n",
    "def view(results):\n",
    "    \"\"\"\n",
    "    result['header']=['DoingNothing','NPY','LE','DC','PS']\n",
    "    result[3000]=[0.0, 0.0, 0.002, 0.003, 0.003001] \n",
    "    \"\"\"\n",
    "    if 'header' in results.keys():\n",
    "        results.pop('header')\n",
    "\n",
    "    steps,DN,NPY,LE,DC,PS=[],[],[],[],[],[] #I love multiple assignment!\n",
    "#     import pprint\n",
    "#     pprint.pprint(results)\n",
    "    for step in sorted(results):\n",
    "        steps.append(step)\n",
    "        DN.append(results[step][0])\n",
    "        NPY.append(results[step][1])\n",
    "        LE.append(results[step][2])\n",
    "        DC.append(results[step][3])\n",
    "        PS.append(results[step][4])\n",
    "\n",
    "    pyplot.plot(steps,DN)\n",
    "    pyplot.plot(steps,NPY)\n",
    "    pyplot.plot(steps,LE)\n",
    "    pyplot.plot(steps,DC)\n",
    "    pyplot.plot(steps,PS)\n",
    "    pyplot.legend(['Empty Loop', 'Numpy.Arange', 'List Comprehension', 'Dict Comprehension', 'Python for Loop'], loc='upper left')\n",
    "    scale = 'linear'\n",
    "    pyplot.xscale(scale)\n",
    "    pyplot.yscale(scale)\n",
    "    pyplot.title('runtime test')\n",
    "    pyplot.xlabel('length of list')\n",
    "    pyplot.ylabel('runtime in seconds')\n",
    "\n",
    "    pyplot.show()\n",
    "\n",
    "def longruntimetest(length, it):\n",
    "    if length<10**4:\n",
    "        length=10**4\n",
    "\n",
    "    result = {}\n",
    "    result['header']=['DoingNothing','NPY','LE','DC','PS']\n",
    "    for step in tqdm(range(10**3, length+1,10**3)):\n",
    "#         print(step)\n",
    "        t=runtimetest(step,verbose=False, it=it)        \n",
    "        result[step]=[t['DoingNothing'],t['NPY'],t['LE'],t['DC'],t['PS']]\n",
    "        for i in range(len(result[step])):\n",
    "            result[step][i]=round(result[step][i].seconds\n",
    "                                  +result[step][i].microseconds/10**6,6)\n",
    "\n",
    "    return result\n"
   ]
  },
  {
   "cell_type": "code",
   "execution_count": 10,
   "metadata": {
    "slideshow": {
     "slide_type": "subslide"
    }
   },
   "outputs": [],
   "source": [
    "testsize=10**4"
   ]
  },
  {
   "cell_type": "code",
   "execution_count": 11,
   "metadata": {
    "scrolled": true,
    "slideshow": {
     "slide_type": "fragment"
    }
   },
   "outputs": [
    {
     "name": "stderr",
     "output_type": "stream",
     "text": [
      "100%|██████████████████████████████████████████████████████████████████████████████████████████████████████████████████████████████████████████████████████████████████████████████████████████████| 10/10 [00:00<00:00, 14.34it/s]\n"
     ]
    }
   ],
   "source": [
    "result = longruntimetest(testsize, 20)"
   ]
  },
  {
   "cell_type": "code",
   "execution_count": 12,
   "metadata": {
    "scrolled": false
   },
   "outputs": [
    {
     "data": {
      "application/javascript": "/* Put everything inside the global mpl namespace */\n/* global mpl */\nwindow.mpl = {};\n\nmpl.get_websocket_type = function () {\n    if (typeof WebSocket !== 'undefined') {\n        return WebSocket;\n    } else if (typeof MozWebSocket !== 'undefined') {\n        return MozWebSocket;\n    } else {\n        alert(\n            'Your browser does not have WebSocket support. ' +\n                'Please try Chrome, Safari or Firefox ≥ 6. ' +\n                'Firefox 4 and 5 are also supported but you ' +\n                'have to enable WebSockets in about:config.'\n        );\n    }\n};\n\nmpl.figure = function (figure_id, websocket, ondownload, parent_element) {\n    this.id = figure_id;\n\n    this.ws = websocket;\n\n    this.supports_binary = this.ws.binaryType !== undefined;\n\n    if (!this.supports_binary) {\n        var warnings = document.getElementById('mpl-warnings');\n        if (warnings) {\n            warnings.style.display = 'block';\n            warnings.textContent =\n                'This browser does not support binary websocket messages. ' +\n                'Performance may be slow.';\n        }\n    }\n\n    this.imageObj = new Image();\n\n    this.context = undefined;\n    this.message = undefined;\n    this.canvas = undefined;\n    this.rubberband_canvas = undefined;\n    this.rubberband_context = undefined;\n    this.format_dropdown = undefined;\n\n    this.image_mode = 'full';\n\n    this.root = document.createElement('div');\n    this.root.setAttribute('style', 'display: inline-block');\n    this._root_extra_style(this.root);\n\n    parent_element.appendChild(this.root);\n\n    this._init_header(this);\n    this._init_canvas(this);\n    this._init_toolbar(this);\n\n    var fig = this;\n\n    this.waiting = false;\n\n    this.ws.onopen = function () {\n        fig.send_message('supports_binary', { value: fig.supports_binary });\n        fig.send_message('send_image_mode', {});\n        if (fig.ratio !== 1) {\n            fig.send_message('set_device_pixel_ratio', {\n                device_pixel_ratio: fig.ratio,\n            });\n        }\n        fig.send_message('refresh', {});\n    };\n\n    this.imageObj.onload = function () {\n        if (fig.image_mode === 'full') {\n            // Full images could contain transparency (where diff images\n            // almost always do), so we need to clear the canvas so that\n            // there is no ghosting.\n            fig.context.clearRect(0, 0, fig.canvas.width, fig.canvas.height);\n        }\n        fig.context.drawImage(fig.imageObj, 0, 0);\n    };\n\n    this.imageObj.onunload = function () {\n        fig.ws.close();\n    };\n\n    this.ws.onmessage = this._make_on_message_function(this);\n\n    this.ondownload = ondownload;\n};\n\nmpl.figure.prototype._init_header = function () {\n    var titlebar = document.createElement('div');\n    titlebar.classList =\n        'ui-dialog-titlebar ui-widget-header ui-corner-all ui-helper-clearfix';\n    var titletext = document.createElement('div');\n    titletext.classList = 'ui-dialog-title';\n    titletext.setAttribute(\n        'style',\n        'width: 100%; text-align: center; padding: 3px;'\n    );\n    titlebar.appendChild(titletext);\n    this.root.appendChild(titlebar);\n    this.header = titletext;\n};\n\nmpl.figure.prototype._canvas_extra_style = function (_canvas_div) {};\n\nmpl.figure.prototype._root_extra_style = function (_canvas_div) {};\n\nmpl.figure.prototype._init_canvas = function () {\n    var fig = this;\n\n    var canvas_div = (this.canvas_div = document.createElement('div'));\n    canvas_div.setAttribute(\n        'style',\n        'border: 1px solid #ddd;' +\n            'box-sizing: content-box;' +\n            'clear: both;' +\n            'min-height: 1px;' +\n            'min-width: 1px;' +\n            'outline: 0;' +\n            'overflow: hidden;' +\n            'position: relative;' +\n            'resize: both;'\n    );\n\n    function on_keyboard_event_closure(name) {\n        return function (event) {\n            return fig.key_event(event, name);\n        };\n    }\n\n    canvas_div.addEventListener(\n        'keydown',\n        on_keyboard_event_closure('key_press')\n    );\n    canvas_div.addEventListener(\n        'keyup',\n        on_keyboard_event_closure('key_release')\n    );\n\n    this._canvas_extra_style(canvas_div);\n    this.root.appendChild(canvas_div);\n\n    var canvas = (this.canvas = document.createElement('canvas'));\n    canvas.classList.add('mpl-canvas');\n    canvas.setAttribute('style', 'box-sizing: content-box;');\n\n    this.context = canvas.getContext('2d');\n\n    var backingStore =\n        this.context.backingStorePixelRatio ||\n        this.context.webkitBackingStorePixelRatio ||\n        this.context.mozBackingStorePixelRatio ||\n        this.context.msBackingStorePixelRatio ||\n        this.context.oBackingStorePixelRatio ||\n        this.context.backingStorePixelRatio ||\n        1;\n\n    this.ratio = (window.devicePixelRatio || 1) / backingStore;\n\n    var rubberband_canvas = (this.rubberband_canvas = document.createElement(\n        'canvas'\n    ));\n    rubberband_canvas.setAttribute(\n        'style',\n        'box-sizing: content-box; position: absolute; left: 0; top: 0; z-index: 1;'\n    );\n\n    // Apply a ponyfill if ResizeObserver is not implemented by browser.\n    if (this.ResizeObserver === undefined) {\n        if (window.ResizeObserver !== undefined) {\n            this.ResizeObserver = window.ResizeObserver;\n        } else {\n            var obs = _JSXTOOLS_RESIZE_OBSERVER({});\n            this.ResizeObserver = obs.ResizeObserver;\n        }\n    }\n\n    this.resizeObserverInstance = new this.ResizeObserver(function (entries) {\n        var nentries = entries.length;\n        for (var i = 0; i < nentries; i++) {\n            var entry = entries[i];\n            var width, height;\n            if (entry.contentBoxSize) {\n                if (entry.contentBoxSize instanceof Array) {\n                    // Chrome 84 implements new version of spec.\n                    width = entry.contentBoxSize[0].inlineSize;\n                    height = entry.contentBoxSize[0].blockSize;\n                } else {\n                    // Firefox implements old version of spec.\n                    width = entry.contentBoxSize.inlineSize;\n                    height = entry.contentBoxSize.blockSize;\n                }\n            } else {\n                // Chrome <84 implements even older version of spec.\n                width = entry.contentRect.width;\n                height = entry.contentRect.height;\n            }\n\n            // Keep the size of the canvas and rubber band canvas in sync with\n            // the canvas container.\n            if (entry.devicePixelContentBoxSize) {\n                // Chrome 84 implements new version of spec.\n                canvas.setAttribute(\n                    'width',\n                    entry.devicePixelContentBoxSize[0].inlineSize\n                );\n                canvas.setAttribute(\n                    'height',\n                    entry.devicePixelContentBoxSize[0].blockSize\n                );\n            } else {\n                canvas.setAttribute('width', width * fig.ratio);\n                canvas.setAttribute('height', height * fig.ratio);\n            }\n            canvas.setAttribute(\n                'style',\n                'width: ' + width + 'px; height: ' + height + 'px;'\n            );\n\n            rubberband_canvas.setAttribute('width', width);\n            rubberband_canvas.setAttribute('height', height);\n\n            // And update the size in Python. We ignore the initial 0/0 size\n            // that occurs as the element is placed into the DOM, which should\n            // otherwise not happen due to the minimum size styling.\n            if (fig.ws.readyState == 1 && width != 0 && height != 0) {\n                fig.request_resize(width, height);\n            }\n        }\n    });\n    this.resizeObserverInstance.observe(canvas_div);\n\n    function on_mouse_event_closure(name) {\n        return function (event) {\n            return fig.mouse_event(event, name);\n        };\n    }\n\n    rubberband_canvas.addEventListener(\n        'mousedown',\n        on_mouse_event_closure('button_press')\n    );\n    rubberband_canvas.addEventListener(\n        'mouseup',\n        on_mouse_event_closure('button_release')\n    );\n    rubberband_canvas.addEventListener(\n        'dblclick',\n        on_mouse_event_closure('dblclick')\n    );\n    // Throttle sequential mouse events to 1 every 20ms.\n    rubberband_canvas.addEventListener(\n        'mousemove',\n        on_mouse_event_closure('motion_notify')\n    );\n\n    rubberband_canvas.addEventListener(\n        'mouseenter',\n        on_mouse_event_closure('figure_enter')\n    );\n    rubberband_canvas.addEventListener(\n        'mouseleave',\n        on_mouse_event_closure('figure_leave')\n    );\n\n    canvas_div.addEventListener('wheel', function (event) {\n        if (event.deltaY < 0) {\n            event.step = 1;\n        } else {\n            event.step = -1;\n        }\n        on_mouse_event_closure('scroll')(event);\n    });\n\n    canvas_div.appendChild(canvas);\n    canvas_div.appendChild(rubberband_canvas);\n\n    this.rubberband_context = rubberband_canvas.getContext('2d');\n    this.rubberband_context.strokeStyle = '#000000';\n\n    this._resize_canvas = function (width, height, forward) {\n        if (forward) {\n            canvas_div.style.width = width + 'px';\n            canvas_div.style.height = height + 'px';\n        }\n    };\n\n    // Disable right mouse context menu.\n    this.rubberband_canvas.addEventListener('contextmenu', function (_e) {\n        event.preventDefault();\n        return false;\n    });\n\n    function set_focus() {\n        canvas.focus();\n        canvas_div.focus();\n    }\n\n    window.setTimeout(set_focus, 100);\n};\n\nmpl.figure.prototype._init_toolbar = function () {\n    var fig = this;\n\n    var toolbar = document.createElement('div');\n    toolbar.classList = 'mpl-toolbar';\n    this.root.appendChild(toolbar);\n\n    function on_click_closure(name) {\n        return function (_event) {\n            return fig.toolbar_button_onclick(name);\n        };\n    }\n\n    function on_mouseover_closure(tooltip) {\n        return function (event) {\n            if (!event.currentTarget.disabled) {\n                return fig.toolbar_button_onmouseover(tooltip);\n            }\n        };\n    }\n\n    fig.buttons = {};\n    var buttonGroup = document.createElement('div');\n    buttonGroup.classList = 'mpl-button-group';\n    for (var toolbar_ind in mpl.toolbar_items) {\n        var name = mpl.toolbar_items[toolbar_ind][0];\n        var tooltip = mpl.toolbar_items[toolbar_ind][1];\n        var image = mpl.toolbar_items[toolbar_ind][2];\n        var method_name = mpl.toolbar_items[toolbar_ind][3];\n\n        if (!name) {\n            /* Instead of a spacer, we start a new button group. */\n            if (buttonGroup.hasChildNodes()) {\n                toolbar.appendChild(buttonGroup);\n            }\n            buttonGroup = document.createElement('div');\n            buttonGroup.classList = 'mpl-button-group';\n            continue;\n        }\n\n        var button = (fig.buttons[name] = document.createElement('button'));\n        button.classList = 'mpl-widget';\n        button.setAttribute('role', 'button');\n        button.setAttribute('aria-disabled', 'false');\n        button.addEventListener('click', on_click_closure(method_name));\n        button.addEventListener('mouseover', on_mouseover_closure(tooltip));\n\n        var icon_img = document.createElement('img');\n        icon_img.src = '_images/' + image + '.png';\n        icon_img.srcset = '_images/' + image + '_large.png 2x';\n        icon_img.alt = tooltip;\n        button.appendChild(icon_img);\n\n        buttonGroup.appendChild(button);\n    }\n\n    if (buttonGroup.hasChildNodes()) {\n        toolbar.appendChild(buttonGroup);\n    }\n\n    var fmt_picker = document.createElement('select');\n    fmt_picker.classList = 'mpl-widget';\n    toolbar.appendChild(fmt_picker);\n    this.format_dropdown = fmt_picker;\n\n    for (var ind in mpl.extensions) {\n        var fmt = mpl.extensions[ind];\n        var option = document.createElement('option');\n        option.selected = fmt === mpl.default_extension;\n        option.innerHTML = fmt;\n        fmt_picker.appendChild(option);\n    }\n\n    var status_bar = document.createElement('span');\n    status_bar.classList = 'mpl-message';\n    toolbar.appendChild(status_bar);\n    this.message = status_bar;\n};\n\nmpl.figure.prototype.request_resize = function (x_pixels, y_pixels) {\n    // Request matplotlib to resize the figure. Matplotlib will then trigger a resize in the client,\n    // which will in turn request a refresh of the image.\n    this.send_message('resize', { width: x_pixels, height: y_pixels });\n};\n\nmpl.figure.prototype.send_message = function (type, properties) {\n    properties['type'] = type;\n    properties['figure_id'] = this.id;\n    this.ws.send(JSON.stringify(properties));\n};\n\nmpl.figure.prototype.send_draw_message = function () {\n    if (!this.waiting) {\n        this.waiting = true;\n        this.ws.send(JSON.stringify({ type: 'draw', figure_id: this.id }));\n    }\n};\n\nmpl.figure.prototype.handle_save = function (fig, _msg) {\n    var format_dropdown = fig.format_dropdown;\n    var format = format_dropdown.options[format_dropdown.selectedIndex].value;\n    fig.ondownload(fig, format);\n};\n\nmpl.figure.prototype.handle_resize = function (fig, msg) {\n    var size = msg['size'];\n    if (size[0] !== fig.canvas.width || size[1] !== fig.canvas.height) {\n        fig._resize_canvas(size[0], size[1], msg['forward']);\n        fig.send_message('refresh', {});\n    }\n};\n\nmpl.figure.prototype.handle_rubberband = function (fig, msg) {\n    var x0 = msg['x0'] / fig.ratio;\n    var y0 = (fig.canvas.height - msg['y0']) / fig.ratio;\n    var x1 = msg['x1'] / fig.ratio;\n    var y1 = (fig.canvas.height - msg['y1']) / fig.ratio;\n    x0 = Math.floor(x0) + 0.5;\n    y0 = Math.floor(y0) + 0.5;\n    x1 = Math.floor(x1) + 0.5;\n    y1 = Math.floor(y1) + 0.5;\n    var min_x = Math.min(x0, x1);\n    var min_y = Math.min(y0, y1);\n    var width = Math.abs(x1 - x0);\n    var height = Math.abs(y1 - y0);\n\n    fig.rubberband_context.clearRect(\n        0,\n        0,\n        fig.canvas.width / fig.ratio,\n        fig.canvas.height / fig.ratio\n    );\n\n    fig.rubberband_context.strokeRect(min_x, min_y, width, height);\n};\n\nmpl.figure.prototype.handle_figure_label = function (fig, msg) {\n    // Updates the figure title.\n    fig.header.textContent = msg['label'];\n};\n\nmpl.figure.prototype.handle_cursor = function (fig, msg) {\n    fig.rubberband_canvas.style.cursor = msg['cursor'];\n};\n\nmpl.figure.prototype.handle_message = function (fig, msg) {\n    fig.message.textContent = msg['message'];\n};\n\nmpl.figure.prototype.handle_draw = function (fig, _msg) {\n    // Request the server to send over a new figure.\n    fig.send_draw_message();\n};\n\nmpl.figure.prototype.handle_image_mode = function (fig, msg) {\n    fig.image_mode = msg['mode'];\n};\n\nmpl.figure.prototype.handle_history_buttons = function (fig, msg) {\n    for (var key in msg) {\n        if (!(key in fig.buttons)) {\n            continue;\n        }\n        fig.buttons[key].disabled = !msg[key];\n        fig.buttons[key].setAttribute('aria-disabled', !msg[key]);\n    }\n};\n\nmpl.figure.prototype.handle_navigate_mode = function (fig, msg) {\n    if (msg['mode'] === 'PAN') {\n        fig.buttons['Pan'].classList.add('active');\n        fig.buttons['Zoom'].classList.remove('active');\n    } else if (msg['mode'] === 'ZOOM') {\n        fig.buttons['Pan'].classList.remove('active');\n        fig.buttons['Zoom'].classList.add('active');\n    } else {\n        fig.buttons['Pan'].classList.remove('active');\n        fig.buttons['Zoom'].classList.remove('active');\n    }\n};\n\nmpl.figure.prototype.updated_canvas_event = function () {\n    // Called whenever the canvas gets updated.\n    this.send_message('ack', {});\n};\n\n// A function to construct a web socket function for onmessage handling.\n// Called in the figure constructor.\nmpl.figure.prototype._make_on_message_function = function (fig) {\n    return function socket_on_message(evt) {\n        if (evt.data instanceof Blob) {\n            var img = evt.data;\n            if (img.type !== 'image/png') {\n                /* FIXME: We get \"Resource interpreted as Image but\n                 * transferred with MIME type text/plain:\" errors on\n                 * Chrome.  But how to set the MIME type?  It doesn't seem\n                 * to be part of the websocket stream */\n                img.type = 'image/png';\n            }\n\n            /* Free the memory for the previous frames */\n            if (fig.imageObj.src) {\n                (window.URL || window.webkitURL).revokeObjectURL(\n                    fig.imageObj.src\n                );\n            }\n\n            fig.imageObj.src = (window.URL || window.webkitURL).createObjectURL(\n                img\n            );\n            fig.updated_canvas_event();\n            fig.waiting = false;\n            return;\n        } else if (\n            typeof evt.data === 'string' &&\n            evt.data.slice(0, 21) === 'data:image/png;base64'\n        ) {\n            fig.imageObj.src = evt.data;\n            fig.updated_canvas_event();\n            fig.waiting = false;\n            return;\n        }\n\n        var msg = JSON.parse(evt.data);\n        var msg_type = msg['type'];\n\n        // Call the  \"handle_{type}\" callback, which takes\n        // the figure and JSON message as its only arguments.\n        try {\n            var callback = fig['handle_' + msg_type];\n        } catch (e) {\n            console.log(\n                \"No handler for the '\" + msg_type + \"' message type: \",\n                msg\n            );\n            return;\n        }\n\n        if (callback) {\n            try {\n                // console.log(\"Handling '\" + msg_type + \"' message: \", msg);\n                callback(fig, msg);\n            } catch (e) {\n                console.log(\n                    \"Exception inside the 'handler_\" + msg_type + \"' callback:\",\n                    e,\n                    e.stack,\n                    msg\n                );\n            }\n        }\n    };\n};\n\n// from https://stackoverflow.com/questions/1114465/getting-mouse-location-in-canvas\nmpl.findpos = function (e) {\n    //this section is from http://www.quirksmode.org/js/events_properties.html\n    var targ;\n    if (!e) {\n        e = window.event;\n    }\n    if (e.target) {\n        targ = e.target;\n    } else if (e.srcElement) {\n        targ = e.srcElement;\n    }\n    if (targ.nodeType === 3) {\n        // defeat Safari bug\n        targ = targ.parentNode;\n    }\n\n    // pageX,Y are the mouse positions relative to the document\n    var boundingRect = targ.getBoundingClientRect();\n    var x = e.pageX - (boundingRect.left + document.body.scrollLeft);\n    var y = e.pageY - (boundingRect.top + document.body.scrollTop);\n\n    return { x: x, y: y };\n};\n\n/*\n * return a copy of an object with only non-object keys\n * we need this to avoid circular references\n * https://stackoverflow.com/a/24161582/3208463\n */\nfunction simpleKeys(original) {\n    return Object.keys(original).reduce(function (obj, key) {\n        if (typeof original[key] !== 'object') {\n            obj[key] = original[key];\n        }\n        return obj;\n    }, {});\n}\n\nmpl.figure.prototype.mouse_event = function (event, name) {\n    var canvas_pos = mpl.findpos(event);\n\n    if (name === 'button_press') {\n        this.canvas.focus();\n        this.canvas_div.focus();\n    }\n\n    var x = canvas_pos.x * this.ratio;\n    var y = canvas_pos.y * this.ratio;\n\n    this.send_message(name, {\n        x: x,\n        y: y,\n        button: event.button,\n        step: event.step,\n        guiEvent: simpleKeys(event),\n    });\n\n    /* This prevents the web browser from automatically changing to\n     * the text insertion cursor when the button is pressed.  We want\n     * to control all of the cursor setting manually through the\n     * 'cursor' event from matplotlib */\n    event.preventDefault();\n    return false;\n};\n\nmpl.figure.prototype._key_event_extra = function (_event, _name) {\n    // Handle any extra behaviour associated with a key event\n};\n\nmpl.figure.prototype.key_event = function (event, name) {\n    // Prevent repeat events\n    if (name === 'key_press') {\n        if (event.key === this._key) {\n            return;\n        } else {\n            this._key = event.key;\n        }\n    }\n    if (name === 'key_release') {\n        this._key = null;\n    }\n\n    var value = '';\n    if (event.ctrlKey && event.key !== 'Control') {\n        value += 'ctrl+';\n    }\n    else if (event.altKey && event.key !== 'Alt') {\n        value += 'alt+';\n    }\n    else if (event.shiftKey && event.key !== 'Shift') {\n        value += 'shift+';\n    }\n\n    value += 'k' + event.key;\n\n    this._key_event_extra(event, name);\n\n    this.send_message(name, { key: value, guiEvent: simpleKeys(event) });\n    return false;\n};\n\nmpl.figure.prototype.toolbar_button_onclick = function (name) {\n    if (name === 'download') {\n        this.handle_save(this, null);\n    } else {\n        this.send_message('toolbar_button', { name: name });\n    }\n};\n\nmpl.figure.prototype.toolbar_button_onmouseover = function (tooltip) {\n    this.message.textContent = tooltip;\n};\n\n///////////////// REMAINING CONTENT GENERATED BY embed_js.py /////////////////\n// prettier-ignore\nvar _JSXTOOLS_RESIZE_OBSERVER=function(A){var t,i=new WeakMap,n=new WeakMap,a=new WeakMap,r=new WeakMap,o=new Set;function s(e){if(!(this instanceof s))throw new TypeError(\"Constructor requires 'new' operator\");i.set(this,e)}function h(){throw new TypeError(\"Function is not a constructor\")}function c(e,t,i,n){e=0 in arguments?Number(arguments[0]):0,t=1 in arguments?Number(arguments[1]):0,i=2 in arguments?Number(arguments[2]):0,n=3 in arguments?Number(arguments[3]):0,this.right=(this.x=this.left=e)+(this.width=i),this.bottom=(this.y=this.top=t)+(this.height=n),Object.freeze(this)}function d(){t=requestAnimationFrame(d);var s=new WeakMap,p=new Set;o.forEach((function(t){r.get(t).forEach((function(i){var r=t instanceof window.SVGElement,o=a.get(t),d=r?0:parseFloat(o.paddingTop),f=r?0:parseFloat(o.paddingRight),l=r?0:parseFloat(o.paddingBottom),u=r?0:parseFloat(o.paddingLeft),g=r?0:parseFloat(o.borderTopWidth),m=r?0:parseFloat(o.borderRightWidth),w=r?0:parseFloat(o.borderBottomWidth),b=u+f,F=d+l,v=(r?0:parseFloat(o.borderLeftWidth))+m,W=g+w,y=r?0:t.offsetHeight-W-t.clientHeight,E=r?0:t.offsetWidth-v-t.clientWidth,R=b+v,z=F+W,M=r?t.width:parseFloat(o.width)-R-E,O=r?t.height:parseFloat(o.height)-z-y;if(n.has(t)){var k=n.get(t);if(k[0]===M&&k[1]===O)return}n.set(t,[M,O]);var S=Object.create(h.prototype);S.target=t,S.contentRect=new c(u,d,M,O),s.has(i)||(s.set(i,[]),p.add(i)),s.get(i).push(S)}))})),p.forEach((function(e){i.get(e).call(e,s.get(e),e)}))}return s.prototype.observe=function(i){if(i instanceof window.Element){r.has(i)||(r.set(i,new Set),o.add(i),a.set(i,window.getComputedStyle(i)));var n=r.get(i);n.has(this)||n.add(this),cancelAnimationFrame(t),t=requestAnimationFrame(d)}},s.prototype.unobserve=function(i){if(i instanceof window.Element&&r.has(i)){var n=r.get(i);n.has(this)&&(n.delete(this),n.size||(r.delete(i),o.delete(i))),n.size||r.delete(i),o.size||cancelAnimationFrame(t)}},A.DOMRectReadOnly=c,A.ResizeObserver=s,A.ResizeObserverEntry=h,A}; // eslint-disable-line\nmpl.toolbar_items = [[\"Home\", \"Reset original view\", \"fa fa-home\", \"home\"], [\"Back\", \"Back to previous view\", \"fa fa-arrow-left\", \"back\"], [\"Forward\", \"Forward to next view\", \"fa fa-arrow-right\", \"forward\"], [\"\", \"\", \"\", \"\"], [\"Pan\", \"Left button pans, Right button zooms\\nx/y fixes axis, CTRL fixes aspect\", \"fa fa-arrows\", \"pan\"], [\"Zoom\", \"Zoom to rectangle\\nx/y fixes axis\", \"fa fa-square-o\", \"zoom\"], [\"\", \"\", \"\", \"\"], [\"Download\", \"Download plot\", \"fa fa-floppy-o\", \"download\"]];\n\nmpl.extensions = [\"eps\", \"jpeg\", \"pgf\", \"pdf\", \"png\", \"ps\", \"raw\", \"svg\", \"tif\", \"webp\"];\n\nmpl.default_extension = \"png\";/* global mpl */\n\nvar comm_websocket_adapter = function (comm) {\n    // Create a \"websocket\"-like object which calls the given IPython comm\n    // object with the appropriate methods. Currently this is a non binary\n    // socket, so there is still some room for performance tuning.\n    var ws = {};\n\n    ws.binaryType = comm.kernel.ws.binaryType;\n    ws.readyState = comm.kernel.ws.readyState;\n    function updateReadyState(_event) {\n        if (comm.kernel.ws) {\n            ws.readyState = comm.kernel.ws.readyState;\n        } else {\n            ws.readyState = 3; // Closed state.\n        }\n    }\n    comm.kernel.ws.addEventListener('open', updateReadyState);\n    comm.kernel.ws.addEventListener('close', updateReadyState);\n    comm.kernel.ws.addEventListener('error', updateReadyState);\n\n    ws.close = function () {\n        comm.close();\n    };\n    ws.send = function (m) {\n        //console.log('sending', m);\n        comm.send(m);\n    };\n    // Register the callback with on_msg.\n    comm.on_msg(function (msg) {\n        //console.log('receiving', msg['content']['data'], msg);\n        var data = msg['content']['data'];\n        if (data['blob'] !== undefined) {\n            data = {\n                data: new Blob(msg['buffers'], { type: data['blob'] }),\n            };\n        }\n        // Pass the mpl event to the overridden (by mpl) onmessage function.\n        ws.onmessage(data);\n    });\n    return ws;\n};\n\nmpl.mpl_figure_comm = function (comm, msg) {\n    // This is the function which gets called when the mpl process\n    // starts-up an IPython Comm through the \"matplotlib\" channel.\n\n    var id = msg.content.data.id;\n    // Get hold of the div created by the display call when the Comm\n    // socket was opened in Python.\n    var element = document.getElementById(id);\n    var ws_proxy = comm_websocket_adapter(comm);\n\n    function ondownload(figure, _format) {\n        window.open(figure.canvas.toDataURL());\n    }\n\n    var fig = new mpl.figure(id, ws_proxy, ondownload, element);\n\n    // Call onopen now - mpl needs it, as it is assuming we've passed it a real\n    // web socket which is closed, not our websocket->open comm proxy.\n    ws_proxy.onopen();\n\n    fig.parent_element = element;\n    fig.cell_info = mpl.find_output_cell(\"<div id='\" + id + \"'></div>\");\n    if (!fig.cell_info) {\n        console.error('Failed to find cell for figure', id, fig);\n        return;\n    }\n    fig.cell_info[0].output_area.element.on(\n        'cleared',\n        { fig: fig },\n        fig._remove_fig_handler\n    );\n};\n\nmpl.figure.prototype.handle_close = function (fig, msg) {\n    var width = fig.canvas.width / fig.ratio;\n    fig.cell_info[0].output_area.element.off(\n        'cleared',\n        fig._remove_fig_handler\n    );\n    fig.resizeObserverInstance.unobserve(fig.canvas_div);\n\n    // Update the output cell to use the data from the current canvas.\n    fig.push_to_output();\n    var dataURL = fig.canvas.toDataURL();\n    // Re-enable the keyboard manager in IPython - without this line, in FF,\n    // the notebook keyboard shortcuts fail.\n    IPython.keyboard_manager.enable();\n    fig.parent_element.innerHTML =\n        '<img src=\"' + dataURL + '\" width=\"' + width + '\">';\n    fig.close_ws(fig, msg);\n};\n\nmpl.figure.prototype.close_ws = function (fig, msg) {\n    fig.send_message('closing', msg);\n    // fig.ws.close()\n};\n\nmpl.figure.prototype.push_to_output = function (_remove_interactive) {\n    // Turn the data on the canvas into data in the output cell.\n    var width = this.canvas.width / this.ratio;\n    var dataURL = this.canvas.toDataURL();\n    this.cell_info[1]['text/html'] =\n        '<img src=\"' + dataURL + '\" width=\"' + width + '\">';\n};\n\nmpl.figure.prototype.updated_canvas_event = function () {\n    // Tell IPython that the notebook contents must change.\n    IPython.notebook.set_dirty(true);\n    this.send_message('ack', {});\n    var fig = this;\n    // Wait a second, then push the new image to the DOM so\n    // that it is saved nicely (might be nice to debounce this).\n    setTimeout(function () {\n        fig.push_to_output();\n    }, 1000);\n};\n\nmpl.figure.prototype._init_toolbar = function () {\n    var fig = this;\n\n    var toolbar = document.createElement('div');\n    toolbar.classList = 'btn-toolbar';\n    this.root.appendChild(toolbar);\n\n    function on_click_closure(name) {\n        return function (_event) {\n            return fig.toolbar_button_onclick(name);\n        };\n    }\n\n    function on_mouseover_closure(tooltip) {\n        return function (event) {\n            if (!event.currentTarget.disabled) {\n                return fig.toolbar_button_onmouseover(tooltip);\n            }\n        };\n    }\n\n    fig.buttons = {};\n    var buttonGroup = document.createElement('div');\n    buttonGroup.classList = 'btn-group';\n    var button;\n    for (var toolbar_ind in mpl.toolbar_items) {\n        var name = mpl.toolbar_items[toolbar_ind][0];\n        var tooltip = mpl.toolbar_items[toolbar_ind][1];\n        var image = mpl.toolbar_items[toolbar_ind][2];\n        var method_name = mpl.toolbar_items[toolbar_ind][3];\n\n        if (!name) {\n            /* Instead of a spacer, we start a new button group. */\n            if (buttonGroup.hasChildNodes()) {\n                toolbar.appendChild(buttonGroup);\n            }\n            buttonGroup = document.createElement('div');\n            buttonGroup.classList = 'btn-group';\n            continue;\n        }\n\n        button = fig.buttons[name] = document.createElement('button');\n        button.classList = 'btn btn-default';\n        button.href = '#';\n        button.title = name;\n        button.innerHTML = '<i class=\"fa ' + image + ' fa-lg\"></i>';\n        button.addEventListener('click', on_click_closure(method_name));\n        button.addEventListener('mouseover', on_mouseover_closure(tooltip));\n        buttonGroup.appendChild(button);\n    }\n\n    if (buttonGroup.hasChildNodes()) {\n        toolbar.appendChild(buttonGroup);\n    }\n\n    // Add the status bar.\n    var status_bar = document.createElement('span');\n    status_bar.classList = 'mpl-message pull-right';\n    toolbar.appendChild(status_bar);\n    this.message = status_bar;\n\n    // Add the close button to the window.\n    var buttongrp = document.createElement('div');\n    buttongrp.classList = 'btn-group inline pull-right';\n    button = document.createElement('button');\n    button.classList = 'btn btn-mini btn-primary';\n    button.href = '#';\n    button.title = 'Stop Interaction';\n    button.innerHTML = '<i class=\"fa fa-power-off icon-remove icon-large\"></i>';\n    button.addEventListener('click', function (_evt) {\n        fig.handle_close(fig, {});\n    });\n    button.addEventListener(\n        'mouseover',\n        on_mouseover_closure('Stop Interaction')\n    );\n    buttongrp.appendChild(button);\n    var titlebar = this.root.querySelector('.ui-dialog-titlebar');\n    titlebar.insertBefore(buttongrp, titlebar.firstChild);\n};\n\nmpl.figure.prototype._remove_fig_handler = function (event) {\n    var fig = event.data.fig;\n    if (event.target !== this) {\n        // Ignore bubbled events from children.\n        return;\n    }\n    fig.close_ws(fig, {});\n};\n\nmpl.figure.prototype._root_extra_style = function (el) {\n    el.style.boxSizing = 'content-box'; // override notebook setting of border-box.\n};\n\nmpl.figure.prototype._canvas_extra_style = function (el) {\n    // this is important to make the div 'focusable\n    el.setAttribute('tabindex', 0);\n    // reach out to IPython and tell the keyboard manager to turn it's self\n    // off when our div gets focus\n\n    // location in version 3\n    if (IPython.notebook.keyboard_manager) {\n        IPython.notebook.keyboard_manager.register_events(el);\n    } else {\n        // location in version 2\n        IPython.keyboard_manager.register_events(el);\n    }\n};\n\nmpl.figure.prototype._key_event_extra = function (event, _name) {\n    // Check for shift+enter\n    if (event.shiftKey && event.which === 13) {\n        this.canvas_div.blur();\n        // select the cell after this one\n        var index = IPython.notebook.find_cell_index(this.cell_info[0]);\n        IPython.notebook.select(index + 1);\n    }\n};\n\nmpl.figure.prototype.handle_save = function (fig, _msg) {\n    fig.ondownload(fig, null);\n};\n\nmpl.find_output_cell = function (html_output) {\n    // Return the cell and output element which can be found *uniquely* in the notebook.\n    // Note - this is a bit hacky, but it is done because the \"notebook_saving.Notebook\"\n    // IPython event is triggered only after the cells have been serialised, which for\n    // our purposes (turning an active figure into a static one), is too late.\n    var cells = IPython.notebook.get_cells();\n    var ncells = cells.length;\n    for (var i = 0; i < ncells; i++) {\n        var cell = cells[i];\n        if (cell.cell_type === 'code') {\n            for (var j = 0; j < cell.output_area.outputs.length; j++) {\n                var data = cell.output_area.outputs[j];\n                if (data.data) {\n                    // IPython >= 3 moved mimebundle to data attribute of output\n                    data = data.data;\n                }\n                if (data['text/html'] === html_output) {\n                    return [cell, data, j];\n                }\n            }\n        }\n    }\n};\n\n// Register the function which deals with the matplotlib target/channel.\n// The kernel may be null if the page has been refreshed.\nif (IPython.notebook.kernel !== null) {\n    IPython.notebook.kernel.comm_manager.register_target(\n        'matplotlib',\n        mpl.mpl_figure_comm\n    );\n}\n",
      "text/plain": [
       "<IPython.core.display.Javascript object>"
      ]
     },
     "metadata": {},
     "output_type": "display_data"
    },
    {
     "data": {
      "text/html": [
       "<img src=\"data:image/png;base64,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\" width=\"1000\">"
      ],
      "text/plain": [
       "<IPython.core.display.HTML object>"
      ]
     },
     "metadata": {},
     "output_type": "display_data"
    }
   ],
   "source": [
    "view(result)"
   ]
  },
  {
   "cell_type": "markdown",
   "metadata": {},
   "source": [
    "## Self-reading"
   ]
  },
  {
   "cell_type": "markdown",
   "metadata": {},
   "source": [
    "- https://realpython.com/pointers-in-python/?fbclid=IwAR0cNGOTG3oL6-7gqZXgzGllS6FYHxjBMK8yrMT0SzW433yo87Vfc0SbxyY\n",
    "- https://mmazurek.dev/for-vs-list-comprehension-vs-map/?fbclid=IwAR1X8YDJE864J-umb05N_BjMtOvQyNDfFE_R8iO3A6tF7KcOA-is0ad-uj0"
   ]
  }
 ],
 "metadata": {
  "celltoolbar": "Slideshow",
  "kernelspec": {
   "display_name": "Python 3",
   "language": "python",
   "name": "python3"
  },
  "language_info": {
   "codemirror_mode": {
    "name": "ipython",
    "version": 3
   },
   "file_extension": ".py",
   "mimetype": "text/x-python",
   "name": "python",
   "nbconvert_exporter": "python",
   "pygments_lexer": "ipython3",
   "version": "3.12.6"
  }
 },
 "nbformat": 4,
 "nbformat_minor": 2
}
